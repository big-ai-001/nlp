{
 "cells": [
  {
   "cell_type": "code",
   "execution_count": 1,
   "metadata": {},
   "outputs": [],
   "source": [
    "import azure.cognitiveservices.speech as speechsdk\n"
   ]
  },
  {
   "cell_type": "code",
   "execution_count": 2,
   "metadata": {},
   "outputs": [],
   "source": [
    "speech_config = speechsdk.SpeechConfig(\n",
    "    subscription=\"d5662ee03aad4db382a7607bf3fe03ee\", region=\"southcentralus\")\n"
   ]
  },
  {
   "cell_type": "code",
   "execution_count": 3,
   "metadata": {},
   "outputs": [],
   "source": [
    "audio_config = speechsdk.audio.AudioConfig(filename=\"./dataset/002.wav\")\n",
    "speech_config.speech_recognition_language=\"zh-TW\"\n",
    "speech_recognizer = speechsdk.SpeechRecognizer(speech_config=speech_config, audio_config=audio_config)"
   ]
  },
  {
   "cell_type": "code",
   "execution_count": 4,
   "metadata": {},
   "outputs": [],
   "source": [
    "done = False"
   ]
  },
  {
   "cell_type": "code",
   "execution_count": 5,
   "metadata": {},
   "outputs": [],
   "source": [
    "def stop_cb(evt):\n",
    "    print('CLOSING on {}'.format(evt))\n",
    "    speech_recognizer.stop_continuous_recognition()\n",
    "    global done\n",
    "    done = True\n"
   ]
  },
  {
   "cell_type": "code",
   "execution_count": 6,
   "metadata": {},
   "outputs": [],
   "source": [
    "r = []\n",
    "\n",
    "\n",
    "def rr(e):\n",
    "    global r\n",
    "    r += e\n",
    "    print(r)\n",
    "\n",
    "\n",
    "speech_recognizer.recognizing.connect(lambda: print())\n",
    "speech_recognizer.recognized.connect(lambda env: print(env))\n",
    "speech_recognizer.session_started.connect(lambda evt: print(''))\n",
    "speech_recognizer.session_stopped.connect(lambda evt: print(''))\n",
    "speech_recognizer.canceled.connect(lambda evt: print(''))\n",
    "\n",
    "speech_recognizer.session_stopped.connect(stop_cb)\n",
    "speech_recognizer.canceled.connect(stop_cb)\n"
   ]
  },
  {
   "cell_type": "code",
   "execution_count": 7,
   "metadata": {},
   "outputs": [
    {
     "name": "stdout",
     "output_type": "stream",
     "text": [
      "\n",
      "核能發電到底是不是一個安全的技術呢？在核災之後，世界各國的核電發展又是如何呢？廢核是國際趨勢嗎？今天我們透過重啟核四公投來聊聊核電究竟安不安全嗎？\n",
      "Hello，大家好，我是自己換回到2021公投只呢，這是這個系列的第4集，那我們在前幾天已經談過公投要不要綁大選？藻礁公投還有萊豬公投的3個議題，那如果你還沒看完，歡迎你有看完今天的影片之後呢？回去看一看那今天這一集是第4集，我們要來討論的，是第十七案重啟核四公投，不過我們發現這個議題比想像中還要複雜很多，我們必須要先弄清楚許多關於核能。\n",
      "還有盒子的資訊，才有辦法進入後續的討論，所以這個主題呢？我們會切分成上下兩集，今天這一集我們會先來跟大家介紹核電廠揪竟安全過去的核災是怎麼回事，也會聊到國際合的趨勢，以及臺灣的核能發展現況，那明天我們就會正式進入這一次核四公投的正反意見討論。當然照慣例哦，在開始之前呢，還是要先進一段工商服務時間。臺灣第一場專門為YouTube影音創作者舉辦年會fip即將登場嘍，不然你是剛踏入YouTube圈，還再努力殺出重圍。\n",
      "或者是已經有點成果，正在思考變現或其他問題的創作者，這場年會都會幫助你突破困境，明確的知道下一步要怎麼走。這種年會由臺灣新媒體影音創作者協會主辦喔，串聯了多位頂尖創作者，一起分享他們在內容策略個人發展影音趨勢以及商業洞察的經驗和觀點。除此之外呢，協會還邀請到YouTube官方代表和IP，為大家提供最準確的平臺動向和建議。那如果你還不創作者，但正在準備入行，或者是有興趣了解，當然也能參加，而像年會呢？將在2022年的1月10日登場。\n",
      "除了現場席位呢，也有線上影片票可以讓大家遠端參與，目前優惠票種自然熱烈販售當中，那因為數量有限，所以有幸確認，請點擊下方的諮詢連接，了解更詳細的活動內容後速速報名他。\n",
      "要討論合適，我們必須要先了解一下核能電廠是怎麼運作的，核能發電廠的發力原理呢，是透過引發核分裂連鎖反應釋放的龐大能量來燒水，再透過發電機把這個能量轉化成電力，最後再透過冷卻水把多餘的廢熱排掉，那目前世界上面多數的核電廠使用的燃料棒是濃度三到5倍的鈾235來發電，而經過長時間的反應之後呢，燃料棒就會變成帶有放射性的核廢料，那這些核廢料該怎麼處理呢？\n",
      "一般來說，核廢料會依照放射性的強度區分成高階核廢料，還有低階核廢料兩大類，高階核廢料指的是用過的燃料棒，而低階核廢料通常指的是在輻射場所使用產生的廢棄物，而這些廢棄物呢，不一定都會被輻射污染，但安全起降全部呢？還出被算作是低階核廢料，例如像是核電廠內使用過的衣物啊工具廢液殘渣等等，又或者是來自醫療院所或者是農業工業相關研究性機構所產生的放射性廢棄物等等，這些核廢料都會需要先初步的處理，再放入暫存場所。\n",
      "最後再依照股價的需求，決定是否運送到適合永久儲存的最終處置場。那個以高階核廢料來說好了，會需要先泡水冷卻降溫再轉換我們乾式貯存，那第一階廢料的處理方式呢？通常會透過焚化壓縮固化等方式來初步處理，最後呢，再運送到暫存場的存放，但目前只有極少數的國家能夠找到合適的最終處置場，多數的國家呢，都還是在乾式儲存狀態，而臺灣3個核電廠的高階核廢料呢？目前則是都還存放在核電廠裡面。\n",
      "而低階核廢料呢？只是會放在各個核電廠，還有核能研究所當中，而蘭嶼的儲存廠呢，也是負責存放低階核廢料的場所，不過呢，在1996年就已經裝滿了，那在沒有意外發生的情況之下呢？已經封裝的核廢料，不管是哪一種類型都不用擔心輻射會幫你解，而接下來呢？我們來看看的是一座核電廠會如何確保運轉安全呢？\n",
      "首先是核電廠各項儀器啊，還有裝置的檢查，任何一座核電廠在商船以前呢，都會需要先經過3個大檢查，確認安全無虞，才會正式的啟用發電。這3個檢查分別是第一階段施工後測試，也就是所有的一切，還有裝置裝上去之後確認他們各自都可以正常運作，而第二個階段呢？試運轉測試就是要針對整個系統進行完整的功能測試，例如確認降溫系統的運作狀況等等，但在這個階段呢，還沒有把燃料棒放進去發電，所以也叫做冷機測試。\n",
      "但第3個階段呢？啟動測試又叫做熱機測試這個階段的測試呢，是要進行燃料裝填啊發電並連到電力系統等多個實際運轉發電的測試，那這3個階段的測試完成之後呢，就會把相關的測試結果還有報告送到核能管制機關審核，以臺灣來說，就是要送到原能會確認安全才能夠啟用。不過即使經過這麼多的檢查，還是會有很多人擔心說核電廠要是發生什麼意外的話，會不會引發爆炸甚至是核爆呢？\n",
      "一般來說，以鈾235為原料製作的核彈呢？濃度常常是高達90 percent以上，那相比之下，一般核電廠使用的燃料棒鈾235的濃度很低，所以即使核電廠就算出了什麼狀況也是不太可能發生，像是核彈釀死的爆炸。而且國際原子能總署會監控高濃度又有動向來監控各股的核武狀態，再加上一般的這個核電廠呢，不需要那麼高的濃度也可以發電，所以基本上呢，各國核電廠裡面都不會存放及高濃度的有框。\n",
      "所以基本上是不用擔心會發生核爆的，不過這就讓很多人很疑惑，如果不會像核彈那樣子合抱，那麼歷史上的核災不是也有爆炸發生嗎？究竟是怎麼回事呢？\n",
      "歷史上面最嚴重的兩次核災呢，分別是1986年的車諾比核災，還有2011年的福島核災，那這兩冊合在都有發生爆炸，但是爆炸的成因跟影響程度都蠻大的。差異車諾比位於現今烏克蘭的境內哦，當年事故發生時還是蘇聯統治的時代而發生事故的原因呢？是核電廠在測試時發生操作失誤，導致何反應失控造成爐心溫度過高而爆炸？然而車諾比核電廠的設計呢，跟今天多數的核電廠都不一樣，並沒有用圍阻體把合法印度包起來。\n",
      "所以發生爆炸呢？就大量的放射性物質直接進到大氣層。根據聯合國還有國際原子能總署和WS球在2005年製作的總體調查報告指出，這個事故導致了56個人直接死亡，以及大約4000人因為曾經暴露在高劑量放射性物質，預期未來將有可能會死於癌癥。而2011年的福島核災呢？只是因為311大地震導致了巨大海嘯，沖毀了福島電廠地下室的應期，才有發電廠，導致爐心無法降溫，最終反應爐熔毀，後來因為發電廠內產生了大量的氫氣。\n",
      "導致氫氣爆炸，使得放射性物質擴散進入大氣當中，而在核災後續影響的部分呢？聯合國在2021年的最新調查當中發現，福島核泄漏輻射對人體健康的影響很小，幾乎可以忽略。目前是只有2018年日本政府首度承認有一位福島核電廠的員工因為輻射而導致罹癌死亡。不過儘管因為暴露的劑量太高而直接過世的人只有一位，還是呢，有高達十五到16萬的當地居民被迫遷離家園，而有調查報告生殖率因為核災被迫搬離。\n",
      "至於工作導致身心壓力巨大，最終生病或者自殺的也不在少數。而由於福島核災之後，引起了國際上面普遍擔憂，因此呢，各國便開始重新檢討究竟該不該繼續使用核能。\n",
      "以全世界的核能發電量來說好了，在福島核災之後，核能發電量下降了很多，但2013之後呢，又再度的反轉上升，以2019年的核能發電總量來看呢，已經超過了2010年的程度了。其實我核電做的超積極的國家呢？最具有指標性的就是德國，他們在福島核災之後就決定要降低核能的發電量。而根據媒體報導呢，德國預計將在明年關閉最後的幾座核電廠，達成非核家園的目標。\n",
      "而日本狀況就比較微妙了，可在發生之後，日本政府迅速的關閉，全國的核電拉高了燃煤啊，還有燃氣發電比例。後來在2014年，新的國家能源政策當中呢，還是訂定2030年核能占比要達到20到22 percent，但是日本的主流民意還是以反核為主，因此即使日本打算要陸續地重啟核電，但核能發電比例呢？跟福島核災之前相比還是第二不少。不過在氣候變遷越來越嚴峻的壓力之下呢，有不少國家認為哦，因為核能在發電過程當中不會排放溫室氣體。\n",
      "因此，為了加速減碳，反而應該要優先減少化石燃料的比例，研議既有的核電廠，例如有一些開發中的國家，例如像是印度啊中國還有一些中歐東歐的國家，除了考量簡單趨勢，還因為人口大量的成長，電力需求上升的關係，反而決定要加碼興建大型的核電廠來兼顧用電需求和減碳。好的，那看完了這些討論之後呢？接著我們就來看看這次公投的主角合適的發展歷程，最後再來看看臺灣目前核能的使用現況。\n",
      "1970年代，臺灣為了因應經濟發展帶動能源需求以及石油危機導致火力發電燃料成本的增加，陸續興建了核一核二，還有核三廠，而核四的興建計畫呢？早在1980年就被踢出來了，但從當時開始就爭議不斷，40年來呢，整個計畫總共停止了3次，至今沒有成功商轉過，第一次是發生在1986年，當時只有興建核四的規劃還沒有正式開始動工，不過因為1979年的美國三哩島事件，以及1986年的車諾比事件而遭到的民間強烈的抗議。\n",
      "核四的預算也因此凍結，直到1992年才因為穩定供電的需求而充氣，而第二次的停建就真的是聽見了。一直到1998年正式開始動工，但是在2000年的時候呢？陳水扁政府上臺之後，沒有經過立法院同意，就擅自宣布停建核四，引起了巨大的政治風暴，立法院提出了大法官釋憲，同時也在醞釀倒閣跟罷免總統，最後在2001年陳水扁政府呢宣布再度重啟核四，而第3次呢則是起因於2011年的福島核災民間再次掀起反核運動。\n",
      "在各方的抗議之下呢？2014年，馬英九政府宣布核四封存，這裡是核四正式施工之後的第二次停工，而2016年蔡英文政府上臺之後呢？因為非核家園的能源目標繼續維持核四不運轉的狀態，而2018年公投門檻降低之後，這一次核四公投的領銜人黃士修提出了所謂以核養綠公投，希望呢？推翻電業法當中，所謂2025非核家園的條款，詳細的內容呢？我們之前有做過一支影片喔，有興趣的話呢，也可以去看看。總之，以核養綠公投。\n",
      "通過之後呢？民進黨政府雖然依照公路結果刪掉了該項條款，但是非核家園的政策方向沒有變，也沒有重啟核四的計畫，因此今年的核四公投呢，就是要來決定要不要重啟核四商轉發電。\n",
      "最早啟用的核一廠，目前兩部機組都已經進入除役階段，不再發電，而核二廠呢有兩部機組可以運轉運轉執照呢？將在2021年底還有2023的年初到期，而核三廠呢？目前有兩部機組可以運轉，而運轉執照呢是在2024以及2025年到期納河，呃，還有河山的這幾部機組佔臺灣發電結構的比例有多少呢？根據臺電公布的資料，2020年的裝置容量核能佔了7.8 percent，如果以2020年總發電量來計算的話呢？來這核能電量的站了11.2。\n",
      "那根據合適當初的規畫，總共會有兩臺機組，總裝是容量為二7億瓦。那如果完全完工而且商轉的話呢？以2020年的數據來比較，大約是2020年5.4 percent裝置容量，不過到目前為止呢核四都沒有被列入臺電的能源規劃當中，好的公投發起前的背景脈絡，我們先講到這裡哦，那明天我們會繼續來看看這次公投正反雙方分別對安全性可行性，還有笑意3個面向的看法，那當然在明天影片的最後，我們也會發表對這個議題的觀察與感想，看到這裡的大家明天也千萬不要錯過嘍。\n",
      "那最後如果你喜歡今天影片放出去，讓更多人知道臺灣核能發電的背景白洛此外，也可以這個地方看到我們在2018年做過的能源公投討論，或是其他2021公投指南的系列影片，那如果你想要繼續了解核四公投的正反意見成立明天，請記得要回來繼續鎖定我們的頻道，那麼今天去七七就是表單，我們明晚再見囉。\n",
      "\n",
      "\n",
      "CLOSING on \n",
      "\n",
      "CLOSING on SessionEventArgs(session_id=bf386278c5ad4418b40c2009717fc54c)\n"
     ]
    }
   ],
   "source": [
    "import time\n",
    "Tmp=[]\n",
    "speech_recognizer.start_continuous_recognition()\n",
    "\n",
    "while not done:\n",
    "    time.sleep(.5)\n"
   ]
  },
  {
   "cell_type": "code",
   "execution_count": null,
   "metadata": {},
   "outputs": [],
   "source": []
  },
  {
   "cell_type": "code",
   "execution_count": 15,
   "metadata": {},
   "outputs": [],
   "source": [
    "import time\n",
    "import azure.cognitiveservices.speech as speechsdk\n",
    "\n",
    "audio_filepath = './test音檔/001_session.wav'\n",
    "locale = \"zh-TW\"  # Change as per requirement\n",
    "\n",
    "audio_config = speechsdk.audio.AudioConfig(filename=audio_filepath)\n",
    "speech_config = speechsdk.SpeechConfig(\n",
    "subscription='d5662ee03aad4db382a7607bf3fe03ee', region='southcentralus')\n",
    "speech_config.request_word_level_timestamps()\n",
    "speech_config.speech_recognition_language = locale\n",
    "speech_config.output_format = speechsdk.OutputFormat(1)\n",
    "\n",
    "# Creates a recognizer with the given settings\n",
    "speech_recognizer = speechsdk.SpeechRecognizer(\n",
    "    speech_config=speech_config, audio_config=audio_config)\n",
    "\n",
    "# Variable to monitor status\n",
    "done = False\n",
    "\n",
    "# Service callback for recognition text\n",
    "transcript_display_list = []\n",
    "transcript_ITN_list = []\n",
    "confidence_list = []\n",
    "words = []\n",
    "\n",
    "def parse_azure_result(evt):\n",
    "    import json\n",
    "    response = json.loads(evt.result.json)\n",
    "    transcript_display_list.append(response['DisplayText'])\n",
    "    confidence_list_temp = [item.get('Confidence')\n",
    "                            for item in response['NBest']]\n",
    "    max_confidence_index = confidence_list_temp.index(\n",
    "        max(confidence_list_temp))\n",
    "    confidence_list.append(\n",
    "        response['NBest'][max_confidence_index]['Confidence'])\n",
    "    transcript_ITN_list.append(\n",
    "        response['NBest'][max_confidence_index]['ITN'])\n",
    "    words.extend(response['NBest'][max_confidence_index]['Words'])\n",
    "\n",
    "# Service callback that stops continuous recognition upon receiving an event `evt`\n",
    "def stop_cb(evt):\n",
    "    print('CLOSING on {}'.format(evt))\n",
    "    speech_recognizer.stop_continuous_recognition()\n",
    "    global done\n",
    "    done = True\n",
    "\n",
    "    # Do something with the combined responses\n",
    "    print(transcript_display_list)\n",
    "    print(confidence_list)\n",
    "    print(words)\n",
    "\n",
    "# Connect callbacks to the events fired by the speech recognizer\n",
    "    speech_recognizer.recognizing.connect(lambda: print())\n",
    "\n",
    "    speech_recognizer.recognized.connect(lambda env: print(env))\n",
    "    speech_recognizer.session_started.connect(lambda evt: print(''))\n",
    "    speech_recognizer.session_stopped.connect(lambda evt: print(''))\n",
    "    speech_recognizer.canceled.connect(lambda evt: print(''))\n",
    "    # stop continuous recognition on either session stopped or canceled events\n",
    "    speech_recognizer.session_stopped.connect(stop_cb)\n",
    "    speech_recognizer.canceled.connect(stop_cb)\n",
    "\n",
    "    # Start continuous speech recognition\n",
    "    speech_recognizer.start_continuous_recognition()\n",
    "    while not done:\n",
    "        time.sleep(.5)\n"
   ]
  },
  {
   "cell_type": "code",
   "execution_count": null,
   "metadata": {},
   "outputs": [],
   "source": []
  }
 ],
 "metadata": {
  "interpreter": {
   "hash": "916dbcbb3f70747c44a77c7bcd40155683ae19c65e1c03b4aa3499c5328201f1"
  },
  "kernelspec": {
   "display_name": "Python 3.9.7 64-bit",
   "language": "python",
   "name": "python3"
  },
  "language_info": {
   "codemirror_mode": {
    "name": "ipython",
    "version": 3
   },
   "file_extension": ".py",
   "mimetype": "text/x-python",
   "name": "python",
   "nbconvert_exporter": "python",
   "pygments_lexer": "ipython3",
   "version": "3.6.8"
  },
  "orig_nbformat": 4
 },
 "nbformat": 4,
 "nbformat_minor": 2
}

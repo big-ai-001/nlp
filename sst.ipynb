{
 "cells": [
  {
   "cell_type": "code",
   "execution_count": 1,
   "metadata": {},
   "outputs": [],
   "source": [
    "import azure.cognitiveservices.speech as speechsdk"
   ]
  },
  {
   "cell_type": "code",
   "execution_count": 2,
   "metadata": {},
   "outputs": [],
   "source": [
    "speech_config = speechsdk.SpeechConfig(subscription=\"d5662ee03aad4db382a7607bf3fe03ee\", region=\"southcentralus\")"
   ]
  },
  {
   "cell_type": "code",
   "execution_count": 3,
   "metadata": {},
   "outputs": [],
   "source": [
    "audio_config = speechsdk.audio.AudioConfig(filename=\"./test音檔/001_session.wav\")\n",
    "speech_config.speech_recognition_language=\"zh-TW\"\n",
    "speech_recognizer = speechsdk.SpeechRecognizer(speech_config=speech_config, audio_config=audio_config)\n"
   ]
  },
  {
   "cell_type": "code",
   "execution_count": 4,
   "metadata": {},
   "outputs": [],
   "source": [
    "# import azure.cognitiveservices.speech as speechsdk\n",
    "\n",
    "# # speech_config = speechsdk.SpeechConfig(\n",
    "# #     subscription=\"./001.wav\", region=\"<paste-your-speech-location/region-here>\")\n",
    "# audio_input = speechsdk.AudioConfig(filename=\"./001.wav\")\n",
    "# speech_recognizer = speechsdk.SpeechRecognizer(\n",
    "#     speech_config=speech_config, audio_config=audio_input)\n",
    "\n",
    "# result = speech_recognizer.recognize_once_async().get()\n",
    "# print(result.text)\n"
   ]
  },
  {
   "cell_type": "code",
   "execution_count": 5,
   "metadata": {},
   "outputs": [],
   "source": [
    "done = False"
   ]
  },
  {
   "cell_type": "code",
   "execution_count": 6,
   "metadata": {},
   "outputs": [],
   "source": [
    "def stop_cb(evt):\n",
    "    print('CLOSING on {}'.format(evt))\n",
    "    speech_recognizer.stop_continuous_recognition()\n",
    "    global done\n",
    "    done = True"
   ]
  },
  {
   "cell_type": "code",
   "execution_count": 7,
   "metadata": {},
   "outputs": [],
   "source": [
    "r=[]\n",
    "\n",
    "speech_recognizer.recognizing.connect(lambda :print())\n",
    "speech_recognizer.recognized.connect(lambda env :r.append(env))\n",
    "speech_recognizer.session_started.connect(lambda evt: print(''))\n",
    "speech_recognizer.session_stopped.connect(lambda evt: print(''))\n",
    "speech_recognizer.canceled.connect(lambda evt: print(''))\n",
    "\n",
    "speech_recognizer.session_stopped.connect(stop_cb)\n",
    "speech_recognizer.canceled.connect(stop_cb)"
   ]
  },
  {
   "cell_type": "code",
   "execution_count": 8,
   "metadata": {},
   "outputs": [
    {
     "name": "stdout",
     "output_type": "stream",
     "text": [
      "\n",
      "\n",
      "CLOSING on SpeechRecognitionCanceledEventArgs(session_id=fab00c763777417da4a9f62133c923ba, result=SpeechRecognitionResult(result_id=b16caeb22dda43bd9f48cac429a54ab8, text=\"\", reason=ResultReason.Canceled))\n",
      "\n",
      "CLOSING on SessionEventArgs(session_id=fab00c763777417da4a9f62133c923ba)\n"
     ]
    }
   ],
   "source": [
    "import time\n",
    "speech_recognizer.start_continuous_recognition()\n",
    "while not done:\n",
    "    time.sleep(.5)"
   ]
  },
  {
   "cell_type": "code",
   "execution_count": 19,
   "metadata": {},
   "outputs": [
    {
     "data": {
      "text/plain": [
       "'沈處分案之事，心存健康之道，大家好，歡迎來到健康壹加壹防疫身心靈我是九九，今天是美東時間2021年11月11號，今天是美國的老兵節，退伍軍人節或退伍軍人紀念日，那藉此機會呢？健康一家以防疫身心靈全體同仁向退伍軍人以及參加過歷次戰爭的退伍軍人表達敬意，感謝你們為國家的付出。'"
      ]
     },
     "execution_count": 19,
     "metadata": {},
     "output_type": "execute_result"
    }
   ],
   "source": [
    "rr=r[0].result.text\n"
   ]
  },
  {
   "cell_type": "code",
   "execution_count": 18,
   "metadata": {},
   "outputs": [
    {
     "data": {
      "text/plain": [
       "'沈處分案之事，心存健康之道，大家好，歡迎來到健康壹加壹防疫身心靈我是九九，今天是美東時間2021年11月11號，今天是美國的老兵節，退伍軍人節或退伍軍人紀念日，那藉此機會呢？健康一家以防疫身心靈全體同仁向退伍軍人以及參加過歷次戰爭的退伍軍人表達敬意，感謝你們為國家的付出。'"
      ]
     },
     "execution_count": 18,
     "metadata": {},
     "output_type": "execute_result"
    }
   ],
   "source": [
    "rr"
   ]
  },
  {
   "cell_type": "code",
   "execution_count": 22,
   "metadata": {},
   "outputs": [
    {
     "name": "stdout",
     "output_type": "stream",
     "text": [
      "rtyu\n"
     ]
    }
   ],
   "source": [
    "print(\"rtyu\")"
   ]
  },
  {
   "cell_type": "code",
   "execution_count": null,
   "metadata": {},
   "outputs": [],
   "source": []
  }
 ],
 "metadata": {
  "interpreter": {
   "hash": "916dbcbb3f70747c44a77c7bcd40155683ae19c65e1c03b4aa3499c5328201f1"
  },
  "kernelspec": {
   "display_name": "Python 3.9.7 64-bit",
   "language": "python",
   "name": "python3"
  },
  "language_info": {
   "codemirror_mode": {
    "name": "ipython",
    "version": 3
   },
   "file_extension": ".py",
   "mimetype": "text/x-python",
   "name": "python",
   "nbconvert_exporter": "python",
   "pygments_lexer": "ipython3",
   "version": "3.9.7"
  },
  "orig_nbformat": 4
 },
 "nbformat": 4,
 "nbformat_minor": 2
}

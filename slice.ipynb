{
 "cells": [
  {
   "cell_type": "code",
   "execution_count": 1,
   "metadata": {},
   "outputs": [],
   "source": [
    "\n",
    "import numpy as np\n",
    "from bert4keras.models import build_transformer_model\n",
    "from bert4keras.tokenizers import Tokenizer\n",
    "from bert4keras.snippets import to_array\n",
    "\n",
    "config_path = \"./model/bert_base/chinese_L-12_H-768_A-12/bert_config.json\"\n",
    "checkpoint_path = './model/bert_base/chinese_L-12_H-768_A-12/bert_model.ckpt'\n",
    "dict_path = './model/bert_base/chinese_L-12_H-768_A-12/vocab.txt'\n"
   ]
  },
  {
   "cell_type": "code",
   "execution_count": 2,
   "metadata": {},
   "outputs": [],
   "source": [
    "model = build_transformer_model(\n",
    "    config_path=config_path, checkpoint_path=checkpoint_path, with_nsp=True\n",
    ")\n"
   ]
  },
  {
   "cell_type": "code",
   "execution_count": 3,
   "metadata": {},
   "outputs": [],
   "source": [
    "tokenizer = Tokenizer(dict_path, do_lower_case=True)\n"
   ]
  },
  {
   "cell_type": "code",
   "execution_count": 106,
   "metadata": {},
   "outputs": [],
   "source": [
    "token_ids, segment_ids = tokenizer.encode(\n",
    "    u'新竹芬蘭距是新盛健康之道大家好歡迎來到健康一加一房一身心靈我是99今天是美東時間2021年11月11號今天是美國的老兵節退伍軍人節和兔今年紀念日那戒指機會了健康一加一放射師精靈全體同仁相退伍軍人以及參加過濾次戰爭的退伍軍人表打記憶感謝你們為國家的付出好啦回到以前的消息美國cdc本週將歐洲兩個國家添加到4級名單南非常高風險的旅遊目的名單中截至11月8號cdc的事情名單上有80個國家',\n",
    "    '其中有包括英國希臘瑞士奧地利土耳其和馬爾代夫')\n"
   ]
  },
  {
   "cell_type": "code",
   "execution_count": 107,
   "metadata": {},
   "outputs": [],
   "source": [
    "token_ids=token_ids[:-1]\n",
    "segment_ids=segment_ids[:-1]"
   ]
  },
  {
   "cell_type": "code",
   "execution_count": 108,
   "metadata": {},
   "outputs": [],
   "source": [
    "#token_ids[3] = token_ids[4] = tokenizer._token_mask\n",
    "token_ids, segment_ids = to_array([token_ids], [segment_ids])\n"
   ]
  },
  {
   "cell_type": "code",
   "execution_count": 109,
   "metadata": {},
   "outputs": [],
   "source": [
    "probas = model.predict([token_ids, segment_ids])[0]\n",
    "# print(tokenizer.decode(probas[3:5].argmax(axis=1)))\n"
   ]
  },
  {
   "cell_type": "code",
   "execution_count": 110,
   "metadata": {},
   "outputs": [
    {
     "name": "stdout",
     "output_type": "stream",
     "text": [
      "0.999933\n"
     ]
    }
   ],
   "source": [
    "print(probas[0])\n"
   ]
  },
  {
   "cell_type": "code",
   "execution_count": null,
   "metadata": {},
   "outputs": [],
   "source": []
  }
 ],
 "metadata": {
  "interpreter": {
   "hash": "1cdc6226152ad3ad8a56f8e4518cb7f834e235f46caa02a52bcd8ef4d8777820"
  },
  "kernelspec": {
   "display_name": "Python 3.6.8 64-bit",
   "language": "python",
   "name": "python3"
  },
  "language_info": {
   "codemirror_mode": {
    "name": "ipython",
    "version": 3
   },
   "file_extension": ".py",
   "mimetype": "text/x-python",
   "name": "python",
   "nbconvert_exporter": "python",
   "pygments_lexer": "ipython3",
   "version": "3.6.8"
  },
  "orig_nbformat": 4
 },
 "nbformat": 4,
 "nbformat_minor": 2
}

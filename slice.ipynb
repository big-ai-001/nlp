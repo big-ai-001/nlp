{
 "cells": [
  {
   "cell_type": "code",
   "execution_count": 1,
   "metadata": {},
   "outputs": [],
   "source": [
    "\n",
    "import numpy as np\n",
    "from bert4keras.models import build_transformer_model\n",
    "from bert4keras.tokenizers import Tokenizer\n",
    "from bert4keras.snippets import to_array\n",
    "\n",
    "config_path = \"./model/bert_base/chinese_L-12_H-768_A-12/bert_config.json\"\n",
    "checkpoint_path = './model/bert_base/chinese_L-12_H-768_A-12/bert_model.ckpt'\n",
    "dict_path = './model/bert_base/chinese_L-12_H-768_A-12/vocab.txt'\n"
   ]
  },
  {
   "cell_type": "code",
   "execution_count": 2,
   "metadata": {},
   "outputs": [
    {
     "ename": "KeyboardInterrupt",
     "evalue": "",
     "output_type": "error",
     "traceback": [
      "\u001b[1;31m---------------------------------------------------------------------------\u001b[0m",
      "\u001b[1;31mKeyboardInterrupt\u001b[0m                         Traceback (most recent call last)",
      "\u001b[1;32m<ipython-input-2-4b22a135fa85>\u001b[0m in \u001b[0;36m<module>\u001b[1;34m\u001b[0m\n\u001b[0;32m      1\u001b[0m model = build_transformer_model(\n\u001b[1;32m----> 2\u001b[1;33m     \u001b[0mconfig_path\u001b[0m\u001b[1;33m=\u001b[0m\u001b[0mconfig_path\u001b[0m\u001b[1;33m,\u001b[0m \u001b[0mcheckpoint_path\u001b[0m\u001b[1;33m=\u001b[0m\u001b[0mcheckpoint_path\u001b[0m\u001b[1;33m,\u001b[0m \u001b[0mwith_nsp\u001b[0m\u001b[1;33m=\u001b[0m\u001b[1;32mTrue\u001b[0m\u001b[1;33m\u001b[0m\u001b[1;33m\u001b[0m\u001b[0m\n\u001b[0m\u001b[0;32m      3\u001b[0m )\n",
      "\u001b[1;32m~\\AppData\\Local\\Programs\\Python\\Python36\\lib\\site-packages\\bert4keras\\models.py\u001b[0m in \u001b[0;36mbuild_transformer_model\u001b[1;34m(config_path, checkpoint_path, model, application, return_keras_model, **kwargs)\u001b[0m\n\u001b[0;32m   2470\u001b[0m \u001b[1;33m\u001b[0m\u001b[0m\n\u001b[0;32m   2471\u001b[0m     \u001b[1;32mif\u001b[0m \u001b[0mcheckpoint_path\u001b[0m \u001b[1;32mis\u001b[0m \u001b[1;32mnot\u001b[0m \u001b[1;32mNone\u001b[0m\u001b[1;33m:\u001b[0m\u001b[1;33m\u001b[0m\u001b[1;33m\u001b[0m\u001b[0m\n\u001b[1;32m-> 2472\u001b[1;33m         \u001b[0mtransformer\u001b[0m\u001b[1;33m.\u001b[0m\u001b[0mload_weights_from_checkpoint\u001b[0m\u001b[1;33m(\u001b[0m\u001b[0mcheckpoint_path\u001b[0m\u001b[1;33m)\u001b[0m\u001b[1;33m\u001b[0m\u001b[1;33m\u001b[0m\u001b[0m\n\u001b[0m\u001b[0;32m   2473\u001b[0m \u001b[1;33m\u001b[0m\u001b[0m\n\u001b[0;32m   2474\u001b[0m     \u001b[1;32mif\u001b[0m \u001b[0mreturn_keras_model\u001b[0m\u001b[1;33m:\u001b[0m\u001b[1;33m\u001b[0m\u001b[1;33m\u001b[0m\u001b[0m\n",
      "\u001b[1;32m~\\AppData\\Local\\Programs\\Python\\Python36\\lib\\site-packages\\bert4keras\\models.py\u001b[0m in \u001b[0;36mload_weights_from_checkpoint\u001b[1;34m(self, checkpoint, mapping)\u001b[0m\n\u001b[0;32m    300\u001b[0m             \u001b[1;32mfor\u001b[0m \u001b[0mw\u001b[0m\u001b[1;33m,\u001b[0m \u001b[0mv\u001b[0m \u001b[1;32min\u001b[0m \u001b[0mzip\u001b[0m\u001b[1;33m(\u001b[0m\u001b[0mlayer\u001b[0m\u001b[1;33m.\u001b[0m\u001b[0mtrainable_weights\u001b[0m\u001b[1;33m,\u001b[0m \u001b[0mvariables\u001b[0m\u001b[1;33m)\u001b[0m\u001b[1;33m:\u001b[0m  \u001b[1;31m# 允许跳过不存在的权重\u001b[0m\u001b[1;33m\u001b[0m\u001b[1;33m\u001b[0m\u001b[0m\n\u001b[0;32m    301\u001b[0m                 \u001b[1;32mtry\u001b[0m\u001b[1;33m:\u001b[0m\u001b[1;33m\u001b[0m\u001b[1;33m\u001b[0m\u001b[0m\n\u001b[1;32m--> 302\u001b[1;33m                     \u001b[0mvalues\u001b[0m\u001b[1;33m.\u001b[0m\u001b[0mappend\u001b[0m\u001b[1;33m(\u001b[0m\u001b[0mself\u001b[0m\u001b[1;33m.\u001b[0m\u001b[0mload_variable\u001b[0m\u001b[1;33m(\u001b[0m\u001b[0mcheckpoint\u001b[0m\u001b[1;33m,\u001b[0m \u001b[0mv\u001b[0m\u001b[1;33m)\u001b[0m\u001b[1;33m)\u001b[0m\u001b[1;33m\u001b[0m\u001b[1;33m\u001b[0m\u001b[0m\n\u001b[0m\u001b[0;32m    303\u001b[0m                     \u001b[0mweights\u001b[0m\u001b[1;33m.\u001b[0m\u001b[0mappend\u001b[0m\u001b[1;33m(\u001b[0m\u001b[0mw\u001b[0m\u001b[1;33m)\u001b[0m\u001b[1;33m\u001b[0m\u001b[1;33m\u001b[0m\u001b[0m\n\u001b[0;32m    304\u001b[0m                 \u001b[1;32mexcept\u001b[0m \u001b[0mException\u001b[0m \u001b[1;32mas\u001b[0m \u001b[0me\u001b[0m\u001b[1;33m:\u001b[0m\u001b[1;33m\u001b[0m\u001b[1;33m\u001b[0m\u001b[0m\n",
      "\u001b[1;32m~\\AppData\\Local\\Programs\\Python\\Python36\\lib\\site-packages\\bert4keras\\models.py\u001b[0m in \u001b[0;36mload_variable\u001b[1;34m(self, checkpoint, name)\u001b[0m\n\u001b[0;32m    701\u001b[0m         \"\"\"加载单个变量的函数\n\u001b[0;32m    702\u001b[0m         \"\"\"\n\u001b[1;32m--> 703\u001b[1;33m         \u001b[0mvariable\u001b[0m \u001b[1;33m=\u001b[0m \u001b[0msuper\u001b[0m\u001b[1;33m(\u001b[0m\u001b[0mBERT\u001b[0m\u001b[1;33m,\u001b[0m \u001b[0mself\u001b[0m\u001b[1;33m)\u001b[0m\u001b[1;33m.\u001b[0m\u001b[0mload_variable\u001b[0m\u001b[1;33m(\u001b[0m\u001b[0mcheckpoint\u001b[0m\u001b[1;33m,\u001b[0m \u001b[0mname\u001b[0m\u001b[1;33m)\u001b[0m\u001b[1;33m\u001b[0m\u001b[1;33m\u001b[0m\u001b[0m\n\u001b[0m\u001b[0;32m    704\u001b[0m         if name in [\n\u001b[0;32m    705\u001b[0m             \u001b[1;34m'bert/embeddings/word_embeddings'\u001b[0m\u001b[1;33m,\u001b[0m\u001b[1;33m\u001b[0m\u001b[1;33m\u001b[0m\u001b[0m\n",
      "\u001b[1;32m~\\AppData\\Local\\Programs\\Python\\Python36\\lib\\site-packages\\bert4keras\\models.py\u001b[0m in \u001b[0;36mload_variable\u001b[1;34m(self, checkpoint, name)\u001b[0m\n\u001b[0;32m    271\u001b[0m             \u001b[1;32mreturn\u001b[0m \u001b[0mcheckpoint\u001b[0m\u001b[1;33m[\u001b[0m\u001b[0mname\u001b[0m\u001b[1;33m]\u001b[0m\u001b[1;33m\u001b[0m\u001b[1;33m\u001b[0m\u001b[0m\n\u001b[0;32m    272\u001b[0m         \u001b[1;32melse\u001b[0m\u001b[1;33m:\u001b[0m\u001b[1;33m\u001b[0m\u001b[1;33m\u001b[0m\u001b[0m\n\u001b[1;32m--> 273\u001b[1;33m             \u001b[1;32mreturn\u001b[0m \u001b[0mtf\u001b[0m\u001b[1;33m.\u001b[0m\u001b[0mtrain\u001b[0m\u001b[1;33m.\u001b[0m\u001b[0mload_variable\u001b[0m\u001b[1;33m(\u001b[0m\u001b[0mcheckpoint\u001b[0m\u001b[1;33m,\u001b[0m \u001b[0mname\u001b[0m\u001b[1;33m)\u001b[0m\u001b[1;33m\u001b[0m\u001b[1;33m\u001b[0m\u001b[0m\n\u001b[0m\u001b[0;32m    274\u001b[0m \u001b[1;33m\u001b[0m\u001b[0m\n\u001b[0;32m    275\u001b[0m     \u001b[1;32mdef\u001b[0m \u001b[0mcreate_variable\u001b[0m\u001b[1;33m(\u001b[0m\u001b[0mself\u001b[0m\u001b[1;33m,\u001b[0m \u001b[0mname\u001b[0m\u001b[1;33m,\u001b[0m \u001b[0mvalue\u001b[0m\u001b[1;33m,\u001b[0m \u001b[0mdtype\u001b[0m\u001b[1;33m=\u001b[0m\u001b[1;32mNone\u001b[0m\u001b[1;33m)\u001b[0m\u001b[1;33m:\u001b[0m\u001b[1;33m\u001b[0m\u001b[1;33m\u001b[0m\u001b[0m\n",
      "\u001b[1;32m~\\AppData\\Local\\Programs\\Python\\Python36\\lib\\site-packages\\tensorflow\\python\\training\\checkpoint_utils.py\u001b[0m in \u001b[0;36mload_variable\u001b[1;34m(ckpt_dir_or_file, name)\u001b[0m\n\u001b[0;32m     83\u001b[0m     \u001b[0mname\u001b[0m \u001b[1;33m=\u001b[0m \u001b[0mname\u001b[0m\u001b[1;33m[\u001b[0m\u001b[1;33m:\u001b[0m\u001b[1;33m-\u001b[0m\u001b[1;36m2\u001b[0m\u001b[1;33m]\u001b[0m\u001b[1;33m\u001b[0m\u001b[1;33m\u001b[0m\u001b[0m\n\u001b[0;32m     84\u001b[0m   \u001b[0mreader\u001b[0m \u001b[1;33m=\u001b[0m \u001b[0mload_checkpoint\u001b[0m\u001b[1;33m(\u001b[0m\u001b[0mckpt_dir_or_file\u001b[0m\u001b[1;33m)\u001b[0m\u001b[1;33m\u001b[0m\u001b[1;33m\u001b[0m\u001b[0m\n\u001b[1;32m---> 85\u001b[1;33m   \u001b[1;32mreturn\u001b[0m \u001b[0mreader\u001b[0m\u001b[1;33m.\u001b[0m\u001b[0mget_tensor\u001b[0m\u001b[1;33m(\u001b[0m\u001b[0mname\u001b[0m\u001b[1;33m)\u001b[0m\u001b[1;33m\u001b[0m\u001b[1;33m\u001b[0m\u001b[0m\n\u001b[0m\u001b[0;32m     86\u001b[0m \u001b[1;33m\u001b[0m\u001b[0m\n\u001b[0;32m     87\u001b[0m \u001b[1;33m\u001b[0m\u001b[0m\n",
      "\u001b[1;31mKeyboardInterrupt\u001b[0m: "
     ]
    }
   ],
   "source": [
    "model = build_transformer_model(\n",
    "    config_path=config_path, checkpoint_path=checkpoint_path, with_nsp=True\n",
    ")\n"
   ]
  },
  {
   "cell_type": "code",
   "execution_count": 3,
   "metadata": {},
   "outputs": [],
   "source": [
    "tokenizer = Tokenizer(dict_path, do_lower_case=True)\n"
   ]
  },
  {
   "cell_type": "code",
   "execution_count": 4,
   "metadata": {},
   "outputs": [],
   "source": [
    "token_ids, segment_ids = tokenizer.encode(\n",
    "    u'新竹芬蘭距是新盛健康之道大家好歡迎來到健康一加一房一身心靈我是99今天是美東時間2021年11月11號今天是美國的老兵節退伍軍人節和兔今年紀念日那戒指機會了健康一加一放射師精靈全體同仁相退伍軍人以及參加過濾次戰爭的退伍軍人表打記憶感謝你們為國家的付出好啦回到以前的消息美國cdc本週將歐洲兩個國家添加到4級名單南非常高風險的旅遊目的名單中截至11月8號cdc的事情名單上有80個國家',\n",
    "    '其中有包括英國希臘瑞士奧地利土耳其和馬爾代夫')\n"
   ]
  },
  {
   "cell_type": "code",
   "execution_count": 7,
   "metadata": {},
   "outputs": [
    {
     "data": {
      "text/plain": [
       "[101,\n",
       " 3173,\n",
       " 5001,\n",
       " 5705,\n",
       " 5984,\n",
       " 6655,\n",
       " 3221,\n",
       " 3173,\n",
       " 4670,\n",
       " 978,\n",
       " 2434,\n",
       " 722,\n",
       " 6887,\n",
       " 1920,\n",
       " 2157,\n",
       " 1962,\n",
       " 3631,\n",
       " 6816,\n",
       " 889,\n",
       " 1168,\n",
       " 978,\n",
       " 2434,\n",
       " 671,\n",
       " 1217,\n",
       " 671,\n",
       " 2791,\n",
       " 671,\n",
       " 6716,\n",
       " 2552,\n",
       " 7470,\n",
       " 2769,\n",
       " 3221,\n",
       " 8238,\n",
       " 791,\n",
       " 1921,\n",
       " 3221,\n",
       " 5401,\n",
       " 3346,\n",
       " 3229,\n",
       " 7279,\n",
       " 9960,\n",
       " 2399,\n",
       " 8111,\n",
       " 3299,\n",
       " 8111,\n",
       " 5998,\n",
       " 791,\n",
       " 1921,\n",
       " 3221,\n",
       " 5401,\n",
       " 1751,\n",
       " 4638,\n",
       " 5439,\n",
       " 1070,\n",
       " 5059,\n",
       " 6842,\n",
       " 824,\n",
       " 6725,\n",
       " 782,\n",
       " 5059,\n",
       " 1469,\n",
       " 1052,\n",
       " 791,\n",
       " 2399,\n",
       " 5145,\n",
       " 2573,\n",
       " 3189,\n",
       " 6929,\n",
       " 2770,\n",
       " 2900,\n",
       " 3582,\n",
       " 3298,\n",
       " 749,\n",
       " 978,\n",
       " 2434,\n",
       " 671,\n",
       " 1217,\n",
       " 671,\n",
       " 3123,\n",
       " 2198,\n",
       " 2374,\n",
       " 5125,\n",
       " 7470,\n",
       " 1059,\n",
       " 7768,\n",
       " 1398,\n",
       " 785,\n",
       " 4685,\n",
       " 6842,\n",
       " 824,\n",
       " 6725,\n",
       " 782,\n",
       " 809,\n",
       " 1350,\n",
       " 1347,\n",
       " 1217,\n",
       " 6882,\n",
       " 4099,\n",
       " 3613,\n",
       " 2782,\n",
       " 4261,\n",
       " 4638,\n",
       " 6842,\n",
       " 824,\n",
       " 6725,\n",
       " 782,\n",
       " 6134,\n",
       " 2802,\n",
       " 6250,\n",
       " 2741,\n",
       " 2697,\n",
       " 6342,\n",
       " 872,\n",
       " 947,\n",
       " 4158,\n",
       " 1751,\n",
       " 2157,\n",
       " 4638,\n",
       " 802,\n",
       " 1139,\n",
       " 1962,\n",
       " 1568,\n",
       " 1726,\n",
       " 1168,\n",
       " 809,\n",
       " 1184,\n",
       " 4638,\n",
       " 3867,\n",
       " 2622,\n",
       " 5401,\n",
       " 1751,\n",
       " 8405,\n",
       " 8177,\n",
       " 3315,\n",
       " 6867,\n",
       " 2200,\n",
       " 3627,\n",
       " 3828,\n",
       " 1060,\n",
       " 943,\n",
       " 1751,\n",
       " 2157,\n",
       " 3924,\n",
       " 1217,\n",
       " 1168,\n",
       " 125,\n",
       " 5159,\n",
       " 1399,\n",
       " 1606,\n",
       " 1298,\n",
       " 7478,\n",
       " 2382,\n",
       " 7770,\n",
       " 7591,\n",
       " 7402,\n",
       " 4638,\n",
       " 3180,\n",
       " 6879,\n",
       " 4680,\n",
       " 4638,\n",
       " 1399,\n",
       " 1606,\n",
       " 704,\n",
       " 2779,\n",
       " 5635,\n",
       " 8111,\n",
       " 3299,\n",
       " 129,\n",
       " 5998,\n",
       " 8405,\n",
       " 8177,\n",
       " 4638,\n",
       " 752,\n",
       " 2658,\n",
       " 1399,\n",
       " 1606,\n",
       " 677,\n",
       " 3300,\n",
       " 8188,\n",
       " 943,\n",
       " 1751,\n",
       " 2157,\n",
       " 102,\n",
       " 1071,\n",
       " 704,\n",
       " 3300,\n",
       " 1259,\n",
       " 2886,\n",
       " 5739,\n",
       " 1751,\n",
       " 2361,\n",
       " 5626,\n",
       " 4448,\n",
       " 1894,\n",
       " 1953,\n",
       " 1765,\n",
       " 1164,\n",
       " 1759,\n",
       " 5455,\n",
       " 1071,\n",
       " 1469,\n",
       " 7679,\n",
       " 4273,\n",
       " 807,\n",
       " 1923,\n",
       " 102]"
      ]
     },
     "execution_count": 7,
     "metadata": {},
     "output_type": "execute_result"
    }
   ],
   "source": [
    "import numpy as np \n",
    "np.shape(token_ids)\n",
    "token_ids"
   ]
  },
  {
   "cell_type": "code",
   "execution_count": 9,
   "metadata": {},
   "outputs": [
    {
     "data": {
      "text/plain": [
       "(1, 1, 206)"
      ]
     },
     "execution_count": 9,
     "metadata": {},
     "output_type": "execute_result"
    }
   ],
   "source": [
    "#token_ids[3] = token_ids[4] = tokenizer._token_mask\n",
    "token_ids, segment_ids = to_array([token_ids], [segment_ids])\n",
    "token_ids.shape"
   ]
  },
  {
   "cell_type": "code",
   "execution_count": 10,
   "metadata": {},
   "outputs": [
    {
     "ename": "NameError",
     "evalue": "name 'model' is not defined",
     "output_type": "error",
     "traceback": [
      "\u001b[1;31m---------------------------------------------------------------------------\u001b[0m",
      "\u001b[1;31mNameError\u001b[0m                                 Traceback (most recent call last)",
      "\u001b[1;32m<ipython-input-10-dc81c51bb3af>\u001b[0m in \u001b[0;36m<module>\u001b[1;34m\u001b[0m\n\u001b[1;32m----> 1\u001b[1;33m \u001b[0mprobas\u001b[0m \u001b[1;33m=\u001b[0m \u001b[0mmodel\u001b[0m\u001b[1;33m.\u001b[0m\u001b[0mpredict\u001b[0m\u001b[1;33m(\u001b[0m\u001b[1;33m[\u001b[0m\u001b[0mtoken_ids\u001b[0m\u001b[1;33m,\u001b[0m \u001b[0msegment_ids\u001b[0m\u001b[1;33m]\u001b[0m\u001b[1;33m)\u001b[0m\u001b[1;33m[\u001b[0m\u001b[1;36m0\u001b[0m\u001b[1;33m]\u001b[0m\u001b[1;33m\u001b[0m\u001b[1;33m\u001b[0m\u001b[0m\n\u001b[0m\u001b[0;32m      2\u001b[0m \u001b[1;31m# print(tokenizer.decode(probas[3:5].argmax(axis=1)))\u001b[0m\u001b[1;33m\u001b[0m\u001b[1;33m\u001b[0m\u001b[1;33m\u001b[0m\u001b[0m\n",
      "\u001b[1;31mNameError\u001b[0m: name 'model' is not defined"
     ]
    }
   ],
   "source": [
    "probas = model.predict([token_ids, segment_ids])[0]\n",
    "# print(tokenizer.decode(probas[3:5].argmax(axis=1)))\n"
   ]
  },
  {
   "cell_type": "code",
   "execution_count": 9,
   "metadata": {},
   "outputs": [
    {
     "name": "stdout",
     "output_type": "stream",
     "text": [
      "0.999933\n"
     ]
    }
   ],
   "source": [
    "print(probas[0])\n"
   ]
  },
  {
   "cell_type": "code",
   "execution_count": null,
   "metadata": {},
   "outputs": [],
   "source": []
  }
 ],
 "metadata": {
  "interpreter": {
   "hash": "1cdc6226152ad3ad8a56f8e4518cb7f834e235f46caa02a52bcd8ef4d8777820"
  },
  "kernelspec": {
   "display_name": "Python 3.6.8 64-bit",
   "language": "python",
   "name": "python3"
  },
  "language_info": {
   "codemirror_mode": {
    "name": "ipython",
    "version": 3
   },
   "file_extension": ".py",
   "mimetype": "text/x-python",
   "name": "python",
   "nbconvert_exporter": "python",
   "pygments_lexer": "ipython3",
   "version": "3.6.8"
  },
  "orig_nbformat": 4
 },
 "nbformat": 4,
 "nbformat_minor": 2
}

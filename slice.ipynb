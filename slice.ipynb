{
 "cells": [
  {
   "cell_type": "code",
   "execution_count": null,
   "metadata": {},
   "outputs": [],
   "source": [
    "#! -*- coding: utf-8 -*-\n",
    "# 测试代码可用性: MLM\n",
    "\n",
    "import numpy as np\n",
    "from bert4keras.models import build_transformer_model\n",
    "from bert4keras.tokenizers import Tokenizer\n",
    "from bert4keras.snippets import to_array\n",
    "\n",
    "config_path = '/root/kg/bert/chinese_L-12_H-768_A-12/bert_config.json'\n",
    "checkpoint_path = '/root/kg/bert/chinese_L-12_H-768_A-12/bert_model.ckpt'\n",
    "dict_path = '/root/kg/bert/chinese_L-12_H-768_A-12/vocab.txt'\n",
    "\n",
    "tokenizer = Tokenizer(dict_path, do_lower_case=True)  # 建立分词器\n",
    "model = build_transformer_model(\n",
    "    config_path=config_path, checkpoint_path=checkpoint_path, with_nsp=True\n",
    ")  # 建立模型，加载权重\n",
    "\n",
    "token_ids, segment_ids = tokenizer.encode(u'科学技术是第一生产力')\n",
    "\n",
    "# mask掉“技术”\n",
    "token_ids[3] = token_ids[4] = tokenizer._token_mask_id\n",
    "token_ids, segment_ids = to_array([token_ids], [segment_ids])\n",
    "\n",
    "# 用mlm模型预测被mask掉的部分\n",
    "probas = model.predict([token_ids, segment_ids])[0]\n",
    "print(tokenizer.decode(probas[3:5].argmax(axis=1)))  # 结果正是“技术”"
   ]
  }
 ],
 "metadata": {
  "language_info": {
   "name": "python"
  },
  "orig_nbformat": 4
 },
 "nbformat": 4,
 "nbformat_minor": 2
}

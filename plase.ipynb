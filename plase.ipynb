{
 "cells": [
  {
   "cell_type": "code",
   "execution_count": 1,
   "metadata": {},
   "outputs": [
    {
     "name": "stdout",
     "output_type": "stream",
     "text": [
      "Collecting azure-cognitiveservices-speech\n",
      "  Downloading azure_cognitiveservices_speech-1.19.0-cp36-cp36m-win_amd64.whl (1.7 MB)\n",
      "Installing collected packages: azure-cognitiveservices-speech\n",
      "Successfully installed azure-cognitiveservices-speech-1.19.0\n",
      "Requirement already satisfied: ckipnlp in c:\\users\\selab\\appdata\\local\\programs\\python\\python36\\lib\\site-packages (1.0.2)\n",
      "Requirement already satisfied: numpy>=1.18 in c:\\users\\selab\\appdata\\local\\programs\\python\\python36\\lib\\site-packages (from ckipnlp) (1.19.5)\n",
      "Requirement already satisfied: treelib>=1.5.5 in c:\\users\\selab\\appdata\\local\\programs\\python\\python36\\lib\\site-packages (from ckipnlp) (1.6.1)\n",
      "Requirement already satisfied: appdirs>=1.4.3 in c:\\users\\selab\\appdata\\local\\programs\\python\\python36\\lib\\site-packages (from ckipnlp) (1.4.4)\n",
      "Requirement already satisfied: future in c:\\users\\selab\\appdata\\local\\programs\\python\\python36\\lib\\site-packages (from treelib>=1.5.5->ckipnlp) (0.18.2)\n"
     ]
    }
   ],
   "source": [
    "!pip install azure-cognitiveservices-speech\n",
    "!pip install ckipnlp\n",
    "!pip install ckip-transformers"
   ]
  },
  {
   "cell_type": "code",
   "execution_count": null,
   "metadata": {},
   "outputs": [],
   "source": []
  }
 ],
 "metadata": {
  "interpreter": {
   "hash": "49f0ac2b710738a0daf3c8c43db7af067079a8ae0eae1f1bcf99b17c5e0d4c4f"
  },
  "kernelspec": {
   "display_name": "Python 3.6.8 64-bit",
   "language": "python",
   "name": "python3"
  },
  "language_info": {
   "codemirror_mode": {
    "name": "ipython",
    "version": 3
   },
   "file_extension": ".py",
   "mimetype": "text/x-python",
   "name": "python",
   "nbconvert_exporter": "python",
   "pygments_lexer": "ipython3",
   "version": "3.6.8"
  },
  "orig_nbformat": 4
 },
 "nbformat": 4,
 "nbformat_minor": 2
}

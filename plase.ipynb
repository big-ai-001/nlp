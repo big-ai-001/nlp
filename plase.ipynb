{
 "cells": [
  {
   "cell_type": "code",
   "execution_count": 4,
   "metadata": {},
   "outputs": [
    {
     "name": "stdout",
     "output_type": "stream",
     "text": [
      "Requirement already satisfied: azure-cognitiveservices-speech in /home/uuu/.local/lib/python3.9/site-packages (1.19.0)\n",
      "Requirement already satisfied: ckipnlp in /home/uuu/.local/lib/python3.9/site-packages (1.0.2)\n",
      "Requirement already satisfied: treelib>=1.5.5 in /home/uuu/.local/lib/python3.9/site-packages (from ckipnlp) (1.6.1)\n",
      "Requirement already satisfied: numpy>=1.18 in /usr/lib/python3/dist-packages (from ckipnlp) (1.19.5)\n",
      "Requirement already satisfied: appdirs>=1.4.3 in /usr/lib/python3/dist-packages (from ckipnlp) (1.4.4)\n",
      "Requirement already satisfied: future in /usr/lib/python3/dist-packages (from treelib>=1.5.5->ckipnlp) (0.18.2)\n",
      "Collecting ckip-transformers\n",
      "  Using cached ckip_transformers-0.2.7-py3-none-any.whl (26 kB)\n",
      "Collecting transformers>=3.5.0\n",
      "  Using cached transformers-4.12.3-py3-none-any.whl (3.1 MB)\n",
      "Requirement already satisfied: tqdm>=4.27 in /home/uuu/.local/lib/python3.9/site-packages (from ckip-transformers) (4.62.3)\n",
      "Collecting torch>=1.5.0\n",
      "  Downloading torch-1.10.0-cp39-cp39-manylinux1_x86_64.whl (881.9 MB)\n",
      "\u001b[K     |████████████████████████████████| 881.9 MB 3.1 kB/s \n",
      "\u001b[?25hRequirement already satisfied: typing-extensions in /home/uuu/.local/lib/python3.9/site-packages (from torch>=1.5.0->ckip-transformers) (4.0.0)\n",
      "Collecting sacremoses\n",
      "  Downloading sacremoses-0.0.46-py3-none-any.whl (895 kB)\n",
      "\u001b[K     |████████████████████████████████| 895 kB 3.2 MB/s \n",
      "\u001b[?25hRequirement already satisfied: numpy>=1.17 in /usr/lib/python3/dist-packages (from transformers>=3.5.0->ckip-transformers) (1.19.5)\n",
      "Requirement already satisfied: packaging>=20.0 in /usr/lib/python3/dist-packages (from transformers>=3.5.0->ckip-transformers) (20.9)\n",
      "Requirement already satisfied: requests in /usr/lib/python3/dist-packages (from transformers>=3.5.0->ckip-transformers) (2.25.1)\n",
      "Collecting filelock\n",
      "  Downloading filelock-3.3.2-py3-none-any.whl (9.7 kB)\n",
      "Collecting tokenizers<0.11,>=0.10.1\n",
      "  Downloading tokenizers-0.10.3-cp39-cp39-manylinux_2_5_x86_64.manylinux1_x86_64.manylinux_2_12_x86_64.manylinux2010_x86_64.whl (3.3 MB)\n",
      "\u001b[K     |████████████████████████████████| 3.3 MB 3.9 MB/s \n",
      "\u001b[?25hRequirement already satisfied: regex!=2019.12.17 in /usr/lib/python3/dist-packages (from transformers>=3.5.0->ckip-transformers) (2020.11.13)\n",
      "Collecting huggingface-hub<1.0,>=0.1.0\n",
      "  Downloading huggingface_hub-0.1.2-py3-none-any.whl (59 kB)\n",
      "\u001b[K     |████████████████████████████████| 59 kB 2.5 MB/s \n",
      "\u001b[?25hRequirement already satisfied: pyyaml>=5.1 in /usr/lib/python3/dist-packages (from transformers>=3.5.0->ckip-transformers) (5.3.1)\n",
      "Requirement already satisfied: six in /usr/lib/python3/dist-packages (from sacremoses->transformers>=3.5.0->ckip-transformers) (1.16.0)\n",
      "Requirement already satisfied: click in /usr/lib/python3/dist-packages (from sacremoses->transformers>=3.5.0->ckip-transformers) (7.1.2)\n",
      "Collecting joblib\n",
      "  Downloading joblib-1.1.0-py2.py3-none-any.whl (306 kB)\n",
      "\u001b[K     |████████████████████████████████| 306 kB 2.6 MB/s \n",
      "\u001b[?25hInstalling collected packages: joblib, filelock, tokenizers, sacremoses, huggingface-hub, transformers, torch, ckip-transformers\n",
      "Successfully installed ckip-transformers-0.2.7 filelock-3.3.2 huggingface-hub-0.1.2 joblib-1.1.0 sacremoses-0.0.46 tokenizers-0.10.3 torch-1.10.0 transformers-4.12.3\n"
     ]
    }
   ],
   "source": [
    "!pip install azure-cognitiveservices-speech\n",
    "!pip install ckipnlp\n",
    "!pip install ckip-transformers"
   ]
  },
  {
   "cell_type": "code",
   "execution_count": 1,
   "metadata": {},
   "outputs": [
    {
     "name": "stdout",
     "output_type": "stream",
     "text": [
      "Collecting ffmpeg-python\n",
      "  Downloading ffmpeg_python-0.2.0-py3-none-any.whl (25 kB)\n",
      "Requirement already satisfied: future in /usr/lib/python3/dist-packages (from ffmpeg-python) (0.18.2)\n",
      "Installing collected packages: ffmpeg-python\n",
      "Successfully installed ffmpeg-python-0.2.0\n"
     ]
    }
   ],
   "source": [
    "!pip install ffmpeg-python"
   ]
  },
  {
   "cell_type": "code",
   "execution_count": 2,
   "metadata": {},
   "outputs": [
    {
     "name": "stdout",
     "output_type": "stream",
     "text": [
      "Collecting moviepy\n",
      "  Downloading moviepy-1.0.3.tar.gz (388 kB)\n",
      "\u001b[K     |████████████████████████████████| 388 kB 606 kB/s \n",
      "\u001b[?25hRequirement already satisfied: decorator<5.0,>=4.0.2 in /usr/lib/python3/dist-packages (from moviepy) (4.4.2)\n",
      "Collecting proglog<=1.0.0\n",
      "  Downloading proglog-0.1.9.tar.gz (10 kB)\n",
      "Requirement already satisfied: requests<3.0,>=2.8.1 in /usr/lib/python3/dist-packages (from moviepy) (2.25.1)\n",
      "Collecting tqdm<5.0,>=4.11.2\n",
      "  Downloading tqdm-4.62.3-py2.py3-none-any.whl (76 kB)\n",
      "\u001b[K     |████████████████████████████████| 76 kB 725 kB/s \n",
      "\u001b[?25hRequirement already satisfied: numpy>=1.17.3 in /usr/lib/python3/dist-packages (from moviepy) (1.19.5)\n",
      "Collecting imageio<3.0,>=2.5\n",
      "  Downloading imageio-2.10.4-py3-none-any.whl (3.3 MB)\n",
      "\u001b[K     |████████████████████████████████| 3.3 MB 1.0 MB/s \n",
      "\u001b[?25hCollecting imageio_ffmpeg>=0.2.0\n",
      "  Downloading imageio_ffmpeg-0.4.5-py3-none-manylinux2010_x86_64.whl (26.9 MB)\n",
      "\u001b[K     |████████████████████████████████| 26.9 MB 1.2 MB/s \n",
      "\u001b[?25hCollecting pillow>=8.3.2\n",
      "  Downloading Pillow-8.4.0-cp39-cp39-manylinux_2_17_x86_64.manylinux2014_x86_64.whl (3.1 MB)\n",
      "\u001b[K     |████████████████████████████████| 3.1 MB 1.1 MB/s \n",
      "\u001b[?25hBuilding wheels for collected packages: moviepy, proglog\n",
      "  Building wheel for moviepy (setup.py) ... \u001b[?25ldone\n",
      "\u001b[?25h  Created wheel for moviepy: filename=moviepy-1.0.3-py3-none-any.whl size=110730 sha256=4dece7d3189fc78bddcc70f25bb552f73505f5fd488a222a01eda2455d93b2b9\n",
      "  Stored in directory: /home/uuu/.cache/pip/wheels/29/15/e4/4f790bec6acd51a00b67e8ee1394f0bc6e0135c315f8ff399a\n",
      "  Building wheel for proglog (setup.py) ... \u001b[?25ldone\n",
      "\u001b[?25h  Created wheel for proglog: filename=proglog-0.1.9-py3-none-any.whl size=6146 sha256=a7e3a8fc94c60897cbd59a428a2c7a8ba1efd5f336e7ed3945c0e5ef134b1803\n",
      "  Stored in directory: /home/uuu/.cache/pip/wheels/3d/49/90/711d235502d9604147607f29cacf99278880246cae65313d95\n",
      "Successfully built moviepy proglog\n",
      "Installing collected packages: tqdm, pillow, proglog, imageio-ffmpeg, imageio, moviepy\n",
      "Successfully installed imageio-2.10.4 imageio-ffmpeg-0.4.5 moviepy-1.0.3 pillow-8.4.0 proglog-0.1.9 tqdm-4.62.3\n"
     ]
    }
   ],
   "source": [
    "!pip install moviepy"
   ]
  },
  {
   "cell_type": "code",
   "execution_count": null,
   "metadata": {},
   "outputs": [],
   "source": []
  }
 ],
 "metadata": {
  "interpreter": {
   "hash": "916dbcbb3f70747c44a77c7bcd40155683ae19c65e1c03b4aa3499c5328201f1"
  },
  "kernelspec": {
   "display_name": "Python 3.9.7 64-bit",
   "name": "python3"
  },
  "language_info": {
   "codemirror_mode": {
    "name": "ipython",
    "version": 3
   },
   "file_extension": ".py",
   "mimetype": "text/x-python",
   "name": "python",
   "nbconvert_exporter": "python",
   "pygments_lexer": "ipython3",
   "version": "3.9.7"
  },
  "orig_nbformat": 4
 },
 "nbformat": 4,
 "nbformat_minor": 2
}

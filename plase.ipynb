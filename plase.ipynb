{
 "cells": [
  {
   "cell_type": "code",
   "execution_count": 4,
   "metadata": {},
   "outputs": [
    {
     "name": "stdout",
     "output_type": "stream",
     "text": [
      "Requirement already satisfied: azure-cognitiveservices-speech in /home/uuu/.local/lib/python3.9/site-packages (1.19.0)\n",
      "Requirement already satisfied: ckipnlp in /home/uuu/.local/lib/python3.9/site-packages (1.0.2)\n",
      "Requirement already satisfied: treelib>=1.5.5 in /home/uuu/.local/lib/python3.9/site-packages (from ckipnlp) (1.6.1)\n",
      "Requirement already satisfied: numpy>=1.18 in /usr/lib/python3/dist-packages (from ckipnlp) (1.19.5)\n",
      "Requirement already satisfied: appdirs>=1.4.3 in /usr/lib/python3/dist-packages (from ckipnlp) (1.4.4)\n",
      "Requirement already satisfied: future in /usr/lib/python3/dist-packages (from treelib>=1.5.5->ckipnlp) (0.18.2)\n",
      "Collecting ckip-transformers\n",
      "  Using cached ckip_transformers-0.2.7-py3-none-any.whl (26 kB)\n",
      "Collecting transformers>=3.5.0\n",
      "  Using cached transformers-4.12.3-py3-none-any.whl (3.1 MB)\n",
      "Requirement already satisfied: tqdm>=4.27 in /home/uuu/.local/lib/python3.9/site-packages (from ckip-transformers) (4.62.3)\n",
      "Collecting torch>=1.5.0\n",
      "  Downloading torch-1.10.0-cp39-cp39-manylinux1_x86_64.whl (881.9 MB)\n",
      "\u001b[K     |████████████████████████████████| 881.9 MB 3.1 kB/s \n",
      "\u001b[?25hRequirement already satisfied: typing-extensions in /home/uuu/.local/lib/python3.9/site-packages (from torch>=1.5.0->ckip-transformers) (4.0.0)\n",
      "Collecting sacremoses\n",
      "  Downloading sacremoses-0.0.46-py3-none-any.whl (895 kB)\n",
      "\u001b[K     |████████████████████████████████| 895 kB 3.2 MB/s \n",
      "\u001b[?25hRequirement already satisfied: numpy>=1.17 in /usr/lib/python3/dist-packages (from transformers>=3.5.0->ckip-transformers) (1.19.5)\n",
      "Requirement already satisfied: packaging>=20.0 in /usr/lib/python3/dist-packages (from transformers>=3.5.0->ckip-transformers) (20.9)\n",
      "Requirement already satisfied: requests in /usr/lib/python3/dist-packages (from transformers>=3.5.0->ckip-transformers) (2.25.1)\n",
      "Collecting filelock\n",
      "  Downloading filelock-3.3.2-py3-none-any.whl (9.7 kB)\n",
      "Collecting tokenizers<0.11,>=0.10.1\n",
      "  Downloading tokenizers-0.10.3-cp39-cp39-manylinux_2_5_x86_64.manylinux1_x86_64.manylinux_2_12_x86_64.manylinux2010_x86_64.whl (3.3 MB)\n",
      "\u001b[K     |████████████████████████████████| 3.3 MB 3.9 MB/s \n",
      "\u001b[?25hRequirement already satisfied: regex!=2019.12.17 in /usr/lib/python3/dist-packages (from transformers>=3.5.0->ckip-transformers) (2020.11.13)\n",
      "Collecting huggingface-hub<1.0,>=0.1.0\n",
      "  Downloading huggingface_hub-0.1.2-py3-none-any.whl (59 kB)\n",
      "\u001b[K     |████████████████████████████████| 59 kB 2.5 MB/s \n",
      "\u001b[?25hRequirement already satisfied: pyyaml>=5.1 in /usr/lib/python3/dist-packages (from transformers>=3.5.0->ckip-transformers) (5.3.1)\n",
      "Requirement already satisfied: six in /usr/lib/python3/dist-packages (from sacremoses->transformers>=3.5.0->ckip-transformers) (1.16.0)\n",
      "Requirement already satisfied: click in /usr/lib/python3/dist-packages (from sacremoses->transformers>=3.5.0->ckip-transformers) (7.1.2)\n",
      "Collecting joblib\n",
      "  Downloading joblib-1.1.0-py2.py3-none-any.whl (306 kB)\n",
      "\u001b[K     |████████████████████████████████| 306 kB 2.6 MB/s \n",
      "\u001b[?25hInstalling collected packages: joblib, filelock, tokenizers, sacremoses, huggingface-hub, transformers, torch, ckip-transformers\n",
      "Successfully installed ckip-transformers-0.2.7 filelock-3.3.2 huggingface-hub-0.1.2 joblib-1.1.0 sacremoses-0.0.46 tokenizers-0.10.3 torch-1.10.0 transformers-4.12.3\n"
     ]
    }
   ],
   "source": [
    "!pip install azure-cognitiveservices-speech\n",
    "!pip install ckipnlp\n",
    "!pip install ckip-transformers\n"
   ]
  },
  {
   "cell_type": "code",
   "execution_count": 4,
   "metadata": {},
   "outputs": [
    {
     "name": "stdout",
     "output_type": "stream",
     "text": [
      "^C\n",
      "Collecting moviepy==1.0.0\n",
      "  Downloading moviepy-1.0.0.tar.gz (398 kB)\n",
      "  Preparing metadata (setup.py): started\n",
      "  Preparing metadata (setup.py): finished with status 'done'\n",
      "Requirement already satisfied: decorator<5.0,>=4.0.2 in c:\\users\\selab\\appdata\\local\\programs\\python\\python36\\lib\\site-packages (from moviepy==1.0.0) (4.4.2)\n",
      "Requirement already satisfied: tqdm<5.0,>=4.11.2 in c:\\users\\selab\\appdata\\local\\programs\\python\\python36\\lib\\site-packages (from moviepy==1.0.0) (4.62.3)\n",
      "Requirement already satisfied: numpy in c:\\users\\selab\\appdata\\local\\programs\\python\\python36\\lib\\site-packages (from moviepy==1.0.0) (1.19.5)\n",
      "Requirement already satisfied: requests<3.0,>=2.8.1 in c:\\users\\selab\\appdata\\local\\programs\\python\\python36\\lib\\site-packages (from moviepy==1.0.0) (2.26.0)\n",
      "Requirement already satisfied: proglog<=1.0.0 in c:\\users\\selab\\appdata\\local\\programs\\python\\python36\\lib\\site-packages (from moviepy==1.0.0) (0.1.9)\n",
      "Requirement already satisfied: imageio<3.0,>=2.5 in c:\\users\\selab\\appdata\\local\\programs\\python\\python36\\lib\\site-packages (from moviepy==1.0.0) (2.10.4)\n",
      "Requirement already satisfied: imageio_ffmpeg>=0.2.0 in c:\\users\\selab\\appdata\\local\\programs\\python\\python36\\lib\\site-packages (from moviepy==1.0.0) (0.4.5)\n",
      "Requirement already satisfied: pillow>=8.3.2 in c:\\users\\selab\\appdata\\local\\programs\\python\\python36\\lib\\site-packages (from imageio<3.0,>=2.5->moviepy==1.0.0) (8.4.0)\n",
      "Requirement already satisfied: charset-normalizer~=2.0.0 in c:\\users\\selab\\appdata\\local\\programs\\python\\python36\\lib\\site-packages (from requests<3.0,>=2.8.1->moviepy==1.0.0) (2.0.7)\n",
      "Requirement already satisfied: urllib3<1.27,>=1.21.1 in c:\\users\\selab\\appdata\\local\\programs\\python\\python36\\lib\\site-packages (from requests<3.0,>=2.8.1->moviepy==1.0.0) (1.26.7)\n",
      "Requirement already satisfied: idna<4,>=2.5 in c:\\users\\selab\\appdata\\local\\programs\\python\\python36\\lib\\site-packages (from requests<3.0,>=2.8.1->moviepy==1.0.0) (3.3)\n",
      "Requirement already satisfied: certifi>=2017.4.17 in c:\\users\\selab\\appdata\\local\\programs\\python\\python36\\lib\\site-packages (from requests<3.0,>=2.8.1->moviepy==1.0.0) (2021.10.8)"
     ]
    }
   ],
   "source": [
    "!pip uninstall moviepy\n",
    "!pip install moviepy==1.0.0"
   ]
  },
  {
   "cell_type": "code",
   "execution_count": 5,
   "metadata": {},
   "outputs": [
    {
     "name": "stdout",
     "output_type": "stream",
     "text": [
      "Package                        Version\n",
      "------------------------------ ----------\n",
      "absl-py                        0.15.0\n",
      "appdirs                        1.4.4\n",
      "argon2-cffi                    21.1.0\n",
      "astor                          0.8.1\n",
      "astunparse                     1.6.3\n",
      "async-generator                1.10\n",
      "attrs                          21.2.0\n",
      "azure-cognitiveservices-speech 1.19.0\n",
      "backcall                       0.2.0\n",
      "bleach                         4.1.0\n",
      "cached-property                1.5.2\n",
      "cachetools                     4.2.4\n",
      "certifi                        2021.10.8\n",
      "cffi                           1.15.0\n",
      "charset-normalizer             2.0.7\n",
      "ckip-transformers              0.2.7\n",
      "ckipnlp                        1.0.2\n",
      "clang                          5.0\n",
      "click                          8.0.3\n",
      "colorama                       0.4.4\n",
      "cycler                         0.11.0\n",
      "dataclasses                    0.8\n",
      "decorator                      4.4.2\n",
      "defusedxml                     0.7.1\n",
      "entrypoints                    0.3\n",
      "filelock                       3.3.2\n",
      "flatbuffers                    1.12\n",
      "future                         0.18.2\n",
      "gast                           0.4.0\n",
      "google-auth                    1.35.0\n",
      "google-auth-oauthlib           0.4.6\n",
      "google-pasta                   0.2.0\n",
      "grpcio                         1.41.1\n",
      "h5py                           3.1.0\n",
      "huggingface-hub                0.1.2\n",
      "idna                           3.3\n",
      "imageio                        2.10.4\n",
      "imageio-ffmpeg                 0.4.5\n",
      "importlib-metadata             4.8.2\n",
      "ipykernel                      5.5.6\n",
      "ipython                        7.16.1\n",
      "ipython-genutils               0.2.0\n",
      "ipywidgets                     7.6.5\n",
      "jedi                           0.18.0\n",
      "Jinja2                         3.0.3\n",
      "joblib                         1.1.0\n",
      "jsonschema                     4.0.0\n",
      "jupyter                        1.0.0\n",
      "jupyter-client                 7.0.6\n",
      "jupyter-console                6.4.0\n",
      "jupyter-core                   4.9.1\n",
      "jupyterlab-pygments            0.1.2\n",
      "jupyterlab-widgets             1.0.2\n",
      "keras                          2.6.0\n",
      "Keras-Applications             1.0.8\n",
      "Keras-Preprocessing            1.1.2\n",
      "kiwisolver                     1.3.1\n",
      "Markdown                       3.3.4\n",
      "MarkupSafe                     2.0.1\n",
      "matplotlib                     3.3.4\n",
      "mistune                        0.8.4\n",
      "moviepy                        1.0.0\n",
      "nbclient                       0.5.8\n",
      "nbconvert                      6.0.7\n",
      "nbformat                       5.1.3\n",
      "nest-asyncio                   1.5.1\n",
      "notebook                       6.4.5\n",
      "numpy                          1.19.5\n",
      "oauthlib                       3.1.1\n",
      "opt-einsum                     3.3.0\n",
      "packaging                      21.2\n",
      "pandocfilters                  1.5.0\n",
      "parso                          0.8.2\n",
      "pickleshare                    0.7.5\n",
      "Pillow                         8.4.0\n",
      "pip                            21.3.1\n",
      "proglog                        0.1.9\n",
      "prometheus-client              0.12.0\n",
      "prompt-toolkit                 3.0.22\n",
      "protobuf                       3.19.1\n",
      "pyasn1                         0.4.8\n",
      "pyasn1-modules                 0.2.8\n",
      "pycparser                      2.21\n",
      "Pygments                       2.10.0\n",
      "pyparsing                      2.4.7\n",
      "pyrsistent                     0.18.0\n",
      "python-dateutil                2.8.2\n",
      "pytube                         11.0.1\n",
      "pywin32                        302\n",
      "pywinpty                       1.1.5\n",
      "PyYAML                         6.0\n",
      "pyzmq                          22.3.0\n",
      "qtconsole                      5.2.0\n",
      "QtPy                           1.11.2\n",
      "regex                          2021.11.10\n",
      "requests                       2.26.0\n",
      "requests-oauthlib              1.3.0\n",
      "rsa                            4.7.2\n",
      "sacremoses                     0.0.46\n",
      "Send2Trash                     1.8.0\n",
      "setuptools                     59.1.0\n",
      "six                            1.15.0\n",
      "tensorboard                    2.6.0\n",
      "tensorboard-data-server        0.6.1\n",
      "tensorboard-plugin-wit         1.8.0\n",
      "tensorflow                     2.6.2\n",
      "tensorflow-estimator           2.6.0\n",
      "termcolor                      1.1.0\n",
      "terminado                      0.12.1\n",
      "testpath                       0.5.0\n",
      "tokenizers                     0.10.3\n",
      "torch                          1.10.0\n",
      "tornado                        6.1\n",
      "tqdm                           4.62.3\n",
      "traitlets                      4.3.3\n",
      "transformers                   4.12.3\n",
      "treelib                        1.6.1\n",
      "typing-extensions              3.7.4.3\n",
      "urllib3                        1.26.7\n",
      "wcwidth                        0.2.5\n",
      "webencodings                   0.5.1\n",
      "Werkzeug                       2.0.2\n",
      "wheel                          0.37.0\n",
      "widgetsnbextension             3.5.2\n",
      "wrapt                          1.12.1\n",
      "zipp                           3.6.0\n"
     ]
    }
   ],
   "source": [
    "!pip list"
   ]
  },
  {
   "cell_type": "code",
   "execution_count": 1,
   "metadata": {},
   "outputs": [
    {
     "name": "stdout",
     "output_type": "stream",
     "text": [
      "Collecting ffmpeg-python\n",
      "  Downloading ffmpeg_python-0.2.0-py3-none-any.whl (25 kB)\n",
      "Requirement already satisfied: future in /usr/lib/python3/dist-packages (from ffmpeg-python) (0.18.2)\n",
      "Installing collected packages: ffmpeg-python\n",
      "Successfully installed ffmpeg-python-0.2.0\n"
     ]
    }
   ],
   "source": [
    "!pip install ffmpeg-python"
   ]
  },
  {
   "cell_type": "code",
   "execution_count": 2,
   "metadata": {},
   "outputs": [
    {
     "name": "stdout",
     "output_type": "stream",
     "text": [
      "Collecting moviepy\n",
      "  Downloading moviepy-1.0.3.tar.gz (388 kB)\n",
      "\u001b[K     |████████████████████████████████| 388 kB 606 kB/s \n",
      "\u001b[?25hRequirement already satisfied: decorator<5.0,>=4.0.2 in /usr/lib/python3/dist-packages (from moviepy) (4.4.2)\n",
      "Collecting proglog<=1.0.0\n",
      "  Downloading proglog-0.1.9.tar.gz (10 kB)\n",
      "Requirement already satisfied: requests<3.0,>=2.8.1 in /usr/lib/python3/dist-packages (from moviepy) (2.25.1)\n",
      "Collecting tqdm<5.0,>=4.11.2\n",
      "  Downloading tqdm-4.62.3-py2.py3-none-any.whl (76 kB)\n",
      "\u001b[K     |████████████████████████████████| 76 kB 725 kB/s \n",
      "\u001b[?25hRequirement already satisfied: numpy>=1.17.3 in /usr/lib/python3/dist-packages (from moviepy) (1.19.5)\n",
      "Collecting imageio<3.0,>=2.5\n",
      "  Downloading imageio-2.10.4-py3-none-any.whl (3.3 MB)\n",
      "\u001b[K     |████████████████████████████████| 3.3 MB 1.0 MB/s \n",
      "\u001b[?25hCollecting imageio_ffmpeg>=0.2.0\n",
      "  Downloading imageio_ffmpeg-0.4.5-py3-none-manylinux2010_x86_64.whl (26.9 MB)\n",
      "\u001b[K     |████████████████████████████████| 26.9 MB 1.2 MB/s \n",
      "\u001b[?25hCollecting pillow>=8.3.2\n",
      "  Downloading Pillow-8.4.0-cp39-cp39-manylinux_2_17_x86_64.manylinux2014_x86_64.whl (3.1 MB)\n",
      "\u001b[K     |████████████████████████████████| 3.1 MB 1.1 MB/s \n",
      "\u001b[?25hBuilding wheels for collected packages: moviepy, proglog\n",
      "  Building wheel for moviepy (setup.py) ... \u001b[?25ldone\n",
      "\u001b[?25h  Created wheel for moviepy: filename=moviepy-1.0.3-py3-none-any.whl size=110730 sha256=4dece7d3189fc78bddcc70f25bb552f73505f5fd488a222a01eda2455d93b2b9\n",
      "  Stored in directory: /home/uuu/.cache/pip/wheels/29/15/e4/4f790bec6acd51a00b67e8ee1394f0bc6e0135c315f8ff399a\n",
      "  Building wheel for proglog (setup.py) ... \u001b[?25ldone\n",
      "\u001b[?25h  Created wheel for proglog: filename=proglog-0.1.9-py3-none-any.whl size=6146 sha256=a7e3a8fc94c60897cbd59a428a2c7a8ba1efd5f336e7ed3945c0e5ef134b1803\n",
      "  Stored in directory: /home/uuu/.cache/pip/wheels/3d/49/90/711d235502d9604147607f29cacf99278880246cae65313d95\n",
      "Successfully built moviepy proglog\n",
      "Installing collected packages: tqdm, pillow, proglog, imageio-ffmpeg, imageio, moviepy\n",
      "Successfully installed imageio-2.10.4 imageio-ffmpeg-0.4.5 moviepy-1.0.3 pillow-8.4.0 proglog-0.1.9 tqdm-4.62.3\n"
     ]
    }
   ],
   "source": [
    "!pip install moviepy"
   ]
  },
  {
   "cell_type": "code",
   "execution_count": null,
   "metadata": {},
   "outputs": [],
   "source": []
  }
 ],
 "metadata": {
  "interpreter": {
   "hash": "916dbcbb3f70747c44a77c7bcd40155683ae19c65e1c03b4aa3499c5328201f1"
  },
  "kernelspec": {
   "display_name": "Python 3.9.7 64-bit",
   "name": "python3"
  },
  "language_info": {
   "codemirror_mode": {
    "name": "ipython",
    "version": 3
   },
   "file_extension": ".py",
   "mimetype": "text/x-python",
   "name": "python",
   "nbconvert_exporter": "python",
   "pygments_lexer": "ipython3",
   "version": "3.6.8"
  },
  "orig_nbformat": 4
 },
 "nbformat": 4,
 "nbformat_minor": 2
}

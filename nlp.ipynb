{
 "cells": [
  {
   "cell_type": "code",
   "execution_count": 2,
   "metadata": {},
   "outputs": [],
   "source": [
    "import azure.cognitiveservices.speech as speechsdk"
   ]
  },
  {
   "cell_type": "code",
   "execution_count": 3,
   "metadata": {},
   "outputs": [
    {
     "name": "stdout",
     "output_type": "stream",
     "text": [
      "刪除分段之事，心存健康之道大家好，歡迎來到健康壹加壹防疫身心靈我是九九，今天是美東時間2021年11月11號，今天是美國的老兵節，退伍軍人節或吐驚人紀念日，那藉此機會呢？健康一家以防疫身心靈全體同仁向退伍軍人以及參加過歷史戰爭的退伍軍人表達敬意，感謝你們為國家的付出好。那我回到疫情的消息，美國CDC。\n"
     ]
    }
   ],
   "source": [
    "speech_config = speechsdk.SpeechConfig(subscription=\"2c5e8c78a8314fda88c63e2be206bc5a\", region=\"japanwest\")\n",
    "\n",
    "\n",
    "import azure.cognitiveservices.speech as speechsdk\n",
    "\n",
    "def from_file():\n",
    "    speech_config = speechsdk.SpeechConfig(subscription=\"2c5e8c78a8314fda88c63e2be206bc5a\", region=\"japanwest\")\n",
    "    speech_config.speech_recognition_language=\"zh-TW\"\n",
    "    audio_input = speechsdk.AudioConfig(filename=\"001.wav\")\n",
    "    speech_recognizer = speechsdk.SpeechRecognizer(speech_config=speech_config, audio_config=audio_input)\n",
    "    \n",
    "    result = speech_recognizer.recognize_once_async().get()\n",
    "    print(result.text)\n",
    "\n",
    "from_file()"
   ]
  },
  {
   "cell_type": "code",
   "execution_count": null,
   "metadata": {},
   "outputs": [],
   "source": []
  }
 ],
 "metadata": {
  "interpreter": {
   "hash": "916dbcbb3f70747c44a77c7bcd40155683ae19c65e1c03b4aa3499c5328201f1"
  },
  "kernelspec": {
   "display_name": "Python 3.9.7 64-bit",
   "name": "python3"
  },
  "language_info": {
   "codemirror_mode": {
    "name": "ipython",
    "version": 3
   },
   "file_extension": ".py",
   "mimetype": "text/x-python",
   "name": "python",
   "nbconvert_exporter": "python",
   "pygments_lexer": "ipython3",
   "version": "3.6.8"
  },
  "orig_nbformat": 4
 },
 "nbformat": 4,
 "nbformat_minor": 2
}

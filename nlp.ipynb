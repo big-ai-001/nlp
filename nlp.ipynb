{
 "cells": [
  {
   "cell_type": "code",
   "execution_count": 1,
   "metadata": {},
   "outputs": [
    {
     "name": "stdout",
     "output_type": "stream",
     "text": [
      "Collecting ckipnlpNote: you may need to restart the kernel to use updated packages.\n",
      "  Downloading ckipnlp-1.0.2-py3-none-any.whl (70 kB)\n",
      "Requirement already satisfied: numpy>=1.18 in c:\\users\\selab\\appdata\\local\\programs\\python\\python36\\lib\\site-packages (from ckipnlp) (1.19.5)\n",
      "Collecting appdirs>=1.4.3\n",
      "  Downloading appdirs-1.4.4-py2.py3-none-any.whl (9.6 kB)\n",
      "Collecting treelib>=1.5.5\n",
      "\n",
      "  Downloading treelib-1.6.1.tar.gz (24 kB)\n",
      "  Preparing metadata (setup.py): started\n",
      "  Preparing metadata (setup.py): finished with status 'done'\n",
      "Collecting future\n",
      "  Downloading future-0.18.2.tar.gz (829 kB)\n",
      "  Preparing metadata (setup.py): started\n",
      "  Preparing metadata (setup.py): finished with status 'done'\n",
      "Building wheels for collected packages: treelib, future\n",
      "  Building wheel for treelib (setup.py): started\n",
      "  Building wheel for treelib (setup.py): finished with status 'done'\n",
      "  Created wheel for treelib: filename=treelib-1.6.1-py3-none-any.whl size=18386 sha256=4789401db1af8a2cb2a0cf951c941c114a7caac58faa04ce1a165325027432d1\n",
      "  Stored in directory: c:\\users\\selab\\appdata\\local\\pip\\cache\\wheels\\b1\\e2\\3c\\75e72011086b57ee7313d691b589dceff43c24fe0e4d9aa291\n",
      "  Building wheel for future (setup.py): started\n",
      "  Building wheel for future (setup.py): finished with status 'done'\n",
      "  Created wheel for future: filename=future-0.18.2-py3-none-any.whl size=491070 sha256=70bcd2ed074f4bc6a9dcada520e41fb7d2581a8fb1c526babcb5a2656c55b15a\n",
      "  Stored in directory: c:\\users\\selab\\appdata\\local\\pip\\cache\\wheels\\6e\\9c\\ed\\4499c9865ac1002697793e0ae05ba6be33553d098f3347fb94\n",
      "Successfully built treelib future\n",
      "Installing collected packages: future, treelib, appdirs, ckipnlp\n",
      "Successfully installed appdirs-1.4.4 ckipnlp-1.0.2 future-0.18.2 treelib-1.6.1\n"
     ]
    }
   ],
   "source": [
    "!pip install ckipnlp"
   ]
  },
  {
   "cell_type": "code",
   "execution_count": 2,
   "metadata": {},
   "outputs": [
    {
     "name": "stdout",
     "output_type": "stream",
     "text": [
      "Package                 Version\n",
      "----------------------- ---------\n",
      "absl-py                 0.15.0\n",
      "appdirs                 1.4.4\n",
      "argon2-cffi             21.1.0\n",
      "astor                   0.8.1\n",
      "astunparse              1.6.3\n",
      "async-generator         1.10\n",
      "attrs                   21.2.0\n",
      "backcall                0.2.0\n",
      "bleach                  4.1.0\n",
      "cached-property         1.5.2\n",
      "cachetools              4.2.4\n",
      "certifi                 2021.10.8\n",
      "cffi                    1.15.0\n",
      "charset-normalizer      2.0.7\n",
      "ckipnlp                 1.0.2\n",
      "clang                   5.0\n",
      "colorama                0.4.4\n",
      "cycler                  0.11.0\n",
      "dataclasses             0.8\n",
      "decorator               5.1.0\n",
      "defusedxml              0.7.1\n",
      "entrypoints             0.3\n",
      "flatbuffers             1.12\n",
      "future                  0.18.2\n",
      "gast                    0.2.2\n",
      "google-auth             1.35.0\n",
      "google-auth-oauthlib    0.4.6\n",
      "google-pasta            0.2.0\n",
      "grpcio                  1.41.1\n",
      "h5py                    3.1.0\n",
      "idna                    3.3\n",
      "importlib-metadata      4.8.2\n",
      "ipykernel               5.5.6\n",
      "ipython                 7.16.1\n",
      "ipython-genutils        0.2.0\n",
      "ipywidgets              7.6.5\n",
      "jedi                    0.18.0\n",
      "Jinja2                  3.0.3\n",
      "jsonschema              4.0.0\n",
      "jupyter                 1.0.0\n",
      "jupyter-client          7.0.6\n",
      "jupyter-console         6.4.0\n",
      "jupyter-core            4.9.1\n",
      "jupyterlab-pygments     0.1.2\n",
      "jupyterlab-widgets      1.0.2\n",
      "keras                   2.6.0\n",
      "Keras-Applications      1.0.8\n",
      "Keras-Preprocessing     1.1.2\n",
      "kiwisolver              1.3.1\n",
      "Markdown                3.3.4\n",
      "MarkupSafe              2.0.1\n",
      "matplotlib              3.3.4\n",
      "mistune                 0.8.4\n",
      "nbclient                0.5.8\n",
      "nbconvert               6.0.7\n",
      "nbformat                5.1.3\n",
      "nest-asyncio            1.5.1\n",
      "notebook                6.4.5\n",
      "numpy                   1.19.5\n",
      "oauthlib                3.1.1\n",
      "opt-einsum              3.3.0\n",
      "packaging               21.2\n",
      "pandocfilters           1.5.0\n",
      "parso                   0.8.2\n",
      "pickleshare             0.7.5\n",
      "Pillow                  8.4.0\n",
      "pip                     21.3.1\n",
      "prometheus-client       0.12.0\n",
      "prompt-toolkit          3.0.22\n",
      "protobuf                3.19.1\n",
      "pyasn1                  0.4.8\n",
      "pyasn1-modules          0.2.8\n",
      "pycparser               2.21\n",
      "Pygments                2.10.0\n",
      "pyparsing               2.4.7\n",
      "pyrsistent              0.18.0\n",
      "python-dateutil         2.8.2\n",
      "pywin32                 302\n",
      "pywinpty                1.1.5\n",
      "pyzmq                   22.3.0\n",
      "qtconsole               5.2.0\n",
      "QtPy                    1.11.2\n",
      "requests                2.26.0\n",
      "requests-oauthlib       1.3.0\n",
      "rsa                     4.7.2\n",
      "Send2Trash              1.8.0\n",
      "setuptools              59.1.0\n",
      "six                     1.16.0\n",
      "tensorboard             1.15.0\n",
      "tensorboard-data-server 0.6.1\n",
      "tensorboard-plugin-wit  1.8.0\n",
      "tensorflow              1.15.0\n",
      "tensorflow-estimator    1.15.1\n",
      "termcolor               1.1.0\n",
      "terminado               0.12.1\n",
      "testpath                0.5.0\n",
      "tornado                 6.1\n",
      "Note: you may need to restart the kernel to use updated packages.\n",
      "traitlets               4.3.3\n",
      "treelib                 1.6.1\n",
      "typing-extensions       3.7.4.3\n",
      "urllib3                 1.26.7\n",
      "wcwidth                 0.2.5\n",
      "webencodings            0.5.1\n",
      "Werkzeug                2.0.2\n",
      "wheel                   0.37.0\n",
      "widgetsnbextension      3.5.2\n",
      "wrapt                   1.12.1\n",
      "zipp                    3.6.0\n"
     ]
    }
   ],
   "source": [
    "pip list"
   ]
  },
  {
   "cell_type": "code",
   "execution_count": 3,
   "metadata": {},
   "outputs": [
    {
     "name": "stdout",
     "output_type": "stream",
     "text": [
      "Collecting ckip-transformers\n",
      "  Downloading ckip_transformers-0.2.7-py3-none-any.whl (26 kB)\n",
      "Collecting torch>=1.5.0\n",
      "  Downloading torch-1.10.0-cp36-cp36m-win_amd64.whl (226.6 MB)\n",
      "Collecting tqdm>=4.27\n",
      "  Downloading tqdm-4.62.3-py2.py3-none-any.whl (76 kB)\n",
      "Collecting transformers>=3.5.0\n",
      "  Downloading transformers-4.12.3-py3-none-any.whl (3.1 MB)\n",
      "Requirement already satisfied: typing-extensions in c:\\users\\selab\\appdata\\local\\programs\\python\\python36\\lib\\site-packages (from torch>=1.5.0->ckip-transformers) (3.7.4.3)\n",
      "Requirement already satisfied: dataclasses in c:\\users\\selab\\appdata\\local\\programs\\python\\python36\\lib\\site-packages (from torch>=1.5.0->ckip-transformers) (0.8)\n",
      "Requirement already satisfied: colorama in c:\\users\\selab\\appdata\\local\\programs\\python\\python36\\lib\\site-packages (from tqdm>=4.27->ckip-transformers) (0.4.4)\n",
      "Requirement already satisfied: numpy>=1.17 in c:\\users\\selab\\appdata\\local\\programs\\python\\python36\\lib\\site-packages (from transformers>=3.5.0->ckip-transformers) (1.19.5)\n",
      "Collecting tokenizers<0.11,>=0.10.1\n",
      "  Downloading tokenizers-0.10.3-cp36-cp36m-win_amd64.whl (2.0 MB)\n",
      "Collecting regex!=2019.12.17\n",
      "  Downloading regex-2021.11.10-cp36-cp36m-win_amd64.whl (272 kB)\n",
      "Requirement already satisfied: requests in c:\\users\\selab\\appdata\\local\\programs\\python\\python36\\lib\\site-packages (from transformers>=3.5.0->ckip-transformers) (2.26.0)\n",
      "Collecting filelock\n",
      "  Downloading filelock-3.3.2-py3-none-any.whl (9.7 kB)\n",
      "Requirement already satisfied: packaging>=20.0 in c:\\users\\selab\\appdata\\local\\programs\\python\\python36\\lib\\site-packages (from transformers>=3.5.0->ckip-transformers) (21.2)\n",
      "Collecting pyyaml>=5.1\n",
      "  Downloading PyYAML-6.0-cp36-cp36m-win_amd64.whl (153 kB)\n",
      "Collecting huggingface-hub<1.0,>=0.1.0\n",
      "  Downloading huggingface_hub-0.1.2-py3-none-any.whl (59 kB)\n",
      "Collecting sacremoses\n",
      "  Downloading sacremoses-0.0.46-py3-none-any.whl (895 kB)\n",
      "Requirement already satisfied: importlib-metadata in c:\\users\\selab\\appdata\\local\\programs\\python\\python36\\lib\\site-packages (from transformers>=3.5.0->ckip-transformers) (4.8.2)\n",
      "Requirement already satisfied: pyparsing<3,>=2.0.2 in c:\\users\\selab\\appdata\\local\\programs\\python\\python36\\lib\\site-packages (from packaging>=20.0->transformers>=3.5.0->ckip-transformers) (2.4.7)\n",
      "Requirement already satisfied: zipp>=0.5 in c:\\users\\selab\\appdata\\local\\programs\\python\\python36\\lib\\site-packages (from importlib-metadata->transformers>=3.5.0->ckip-transformers) (3.6.0)\n",
      "Requirement already satisfied: idna<4,>=2.5 in c:\\users\\selab\\appdata\\local\\programs\\python\\python36\\lib\\site-packages (from requests->transformers>=3.5.0->ckip-transformers) (3.3)\n",
      "Requirement already satisfied: charset-normalizer~=2.0.0 in c:\\users\\selab\\appdata\\local\\programs\\python\\python36\\lib\\site-packages (from requests->transformers>=3.5.0->ckip-transformers) (2.0.7)\n",
      "Requirement already satisfied: urllib3<1.27,>=1.21.1 in c:\\users\\selab\\appdata\\local\\programs\\python\\python36\\lib\\site-packages (from requests->transformers>=3.5.0->ckip-transformers) (1.26.7)\n",
      "Requirement already satisfied: certifi>=2017.4.17 in c:\\users\\selab\\appdata\\local\\programs\\python\\python36\\lib\\site-packages (from requests->transformers>=3.5.0->ckip-transformers) (2021.10.8)\n",
      "Requirement already satisfied: six in c:\\users\\selab\\appdata\\local\\programs\\python\\python36\\lib\\site-packages (from sacremoses->transformers>=3.5.0->ckip-transformers) (1.16.0)\n",
      "Collecting joblib\n",
      "  Downloading joblib-1.1.0-py2.py3-none-any.whl (306 kB)\n",
      "Collecting click\n",
      "  Downloading click-8.0.3-py3-none-any.whl (97 kB)\n",
      "Installing collected packages: tqdm, regex, pyyaml, joblib, filelock, click, tokenizers, sacremoses, huggingface-hub, transformers, torch, ckip-transformers\n",
      "Successfully installed ckip-transformers-0.2.7 click-8.0.3 filelock-3.3.2 huggingface-hub-0.1.2 joblib-1.1.0 pyyaml-6.0 regex-2021.11.10 sacremoses-0.0.46 tokenizers-0.10.3 torch-1.10.0 tqdm-4.62.3 transformers-4.12.3\n"
     ]
    }
   ],
   "source": [
    "!pip install ckip-transformers"
   ]
  },
  {
   "cell_type": "code",
   "execution_count": 1,
   "metadata": {},
   "outputs": [
    {
     "name": "stdout",
     "output_type": "stream",
     "text": [
      "tf.Tensor(-66.42589, shape=(), dtype=float32)\n"
     ]
    }
   ],
   "source": [
    "import tensorflow as tf\n",
    "print(tf.reduce_sum(tf.random.normal([1000, 1000])))"
   ]
  },
  {
   "cell_type": "code",
   "execution_count": 2,
   "metadata": {},
   "outputs": [
    {
     "name": "stdout",
     "output_type": "stream",
     "text": [
      "Collecting pytube\n",
      "  Downloading pytube-11.0.1-py3-none-any.whl (56 kB)\n",
      "Installing collected packages: pytube\n",
      "Successfully installed pytube-11.0.1\n"
     ]
    }
   ],
   "source": [
    "!pip install pytube"
   ]
  },
  {
   "cell_type": "markdown",
   "metadata": {},
   "source": [
    "res=\"youtube.com/watch?v=GM7v7TRa3KI\""
   ]
  },
  {
   "cell_type": "code",
   "execution_count": 3,
   "metadata": {},
   "outputs": [],
   "source": [
    "res=\"youtube.com/watch?v=GM7v7TRa3KI\""
   ]
  },
  {
   "cell_type": "code",
   "execution_count": 7,
   "metadata": {},
   "outputs": [],
   "source": [
    "import pytube"
   ]
  },
  {
   "cell_type": "code",
   "execution_count": 10,
   "metadata": {},
   "outputs": [
    {
     "ename": "AttributeError",
     "evalue": "'NoneType' object has no attribute 'download'",
     "output_type": "error",
     "traceback": [
      "\u001b[1;31m---------------------------------------------------------------------------\u001b[0m",
      "\u001b[1;31mAttributeError\u001b[0m                            Traceback (most recent call last)",
      "\u001b[1;32m<ipython-input-10-e12f7ba548fd>\u001b[0m in \u001b[0;36m<module>\u001b[1;34m\u001b[0m\n\u001b[1;32m----> 1\u001b[1;33m \u001b[0mpytube\u001b[0m\u001b[1;33m.\u001b[0m\u001b[0mYouTube\u001b[0m\u001b[1;33m(\u001b[0m\u001b[0mres\u001b[0m\u001b[1;33m)\u001b[0m\u001b[1;33m.\u001b[0m\u001b[0mstreams\u001b[0m\u001b[1;33m.\u001b[0m\u001b[0mfilter\u001b[0m\u001b[1;33m(\u001b[0m\u001b[0mprogressive\u001b[0m\u001b[1;33m=\u001b[0m\u001b[1;32mTrue\u001b[0m\u001b[1;33m,\u001b[0m\u001b[0mfile_extension\u001b[0m\u001b[1;33m=\u001b[0m\u001b[1;34m\"testVideo.avi\"\u001b[0m\u001b[1;33m)\u001b[0m\u001b[1;33m.\u001b[0m\u001b[0mfirst\u001b[0m\u001b[1;33m(\u001b[0m\u001b[1;33m)\u001b[0m\u001b[1;33m.\u001b[0m\u001b[0mdownload\u001b[0m\u001b[1;33m(\u001b[0m\u001b[1;33m)\u001b[0m\u001b[1;33m\u001b[0m\u001b[1;33m\u001b[0m\u001b[0m\n\u001b[0m",
      "\u001b[1;31mAttributeError\u001b[0m: 'NoneType' object has no attribute 'download'"
     ]
    }
   ],
   "source": [
    "pytube.YouTube(res).streams.filter(progressive=True,file_extension=\"testVideo.avi\").first().download()"
   ]
  },
  {
   "cell_type": "code",
   "execution_count": null,
   "metadata": {},
   "outputs": [],
   "source": []
  }
 ],
 "metadata": {
  "interpreter": {
   "hash": "49f0ac2b710738a0daf3c8c43db7af067079a8ae0eae1f1bcf99b17c5e0d4c4f"
  },
  "kernelspec": {
   "display_name": "Python 3.6.8 64-bit",
   "language": "python",
   "name": "python3"
  },
  "language_info": {
   "codemirror_mode": {
    "name": "ipython",
    "version": 3
   },
   "file_extension": ".py",
   "mimetype": "text/x-python",
   "name": "python",
   "nbconvert_exporter": "python",
   "pygments_lexer": "ipython3",
   "version": "3.6.8"
  },
  "orig_nbformat": 4
 },
 "nbformat": 4,
 "nbformat_minor": 2
}
